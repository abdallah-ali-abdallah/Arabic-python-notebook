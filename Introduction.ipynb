{
 "cells": [
  {
   "cell_type": "code",
   "execution_count": 35,
   "metadata": {
    "collapsed": false
   },
   "outputs": [
    {
     "data": {
      "application/javascript": [
       "\n",
       "IPython.keyboard_manager.command_shortcuts.add_shortcut('g', {\n",
       "    handler : function (event) {\n",
       "        var input = IPython.notebook.get_selected_cell().get_text();\n",
       "        var cmd = \"f = open('.toto.py', 'w');f.close()\";\n",
       "        if (input != \"\") {\n",
       "            cmd = '%%writefile .toto.py\\n' + input;\n",
       "        }\n",
       "        IPython.notebook.kernel.execute(cmd);\n",
       "        cmd = \"import os;os.system('gedit .toto.py')\";\n",
       "        IPython.notebook.kernel.execute(cmd);\n",
       "        return false;\n",
       "    }}\n",
       ");\n",
       "\n",
       "IPython.keyboard_manager.command_shortcuts.add_shortcut('u', {\n",
       "    handler : function (event) {\n",
       "        function handle_output(msg) {\n",
       "            var ret = msg.content.text;\n",
       "            IPython.notebook.get_selected_cell().set_text(ret);\n",
       "        }\n",
       "        var callback = {'output': handle_output};\n",
       "        var cmd = \"f = open('.toto.py', 'r');print(f.read())\";\n",
       "        IPython.notebook.kernel.execute(cmd, {iopub: callback}, {silent: false});\n",
       "        return false;\n",
       "    }}\n",
       ");"
      ],
      "text/plain": [
       "<IPython.core.display.Javascript object>"
      ]
     },
     "metadata": {},
     "output_type": "display_data"
    }
   ],
   "source": [
    "%%javascript\n",
    "\n",
    "IPython.keyboard_manager.command_shortcuts.add_shortcut('g', {\n",
    "    handler : function (event) {\n",
    "        var input = IPython.notebook.get_selected_cell().get_text();\n",
    "        var cmd = \"f = open('.toto.py', 'w');f.close()\";\n",
    "        if (input != \"\") {\n",
    "            cmd = '%%writefile .toto.py\\n' + input;\n",
    "        }\n",
    "        IPython.notebook.kernel.execute(cmd);\n",
    "        cmd = \"import os;os.system('gedit .toto.py')\";\n",
    "        IPython.notebook.kernel.execute(cmd);\n",
    "        return false;\n",
    "    }}\n",
    ");\n",
    "\n",
    "IPython.keyboard_manager.command_shortcuts.add_shortcut('u', {\n",
    "    handler : function (event) {\n",
    "        function handle_output(msg) {\n",
    "            var ret = msg.content.text;\n",
    "            IPython.notebook.get_selected_cell().set_text(ret);\n",
    "        }\n",
    "        var callback = {'output': handle_output};\n",
    "        var cmd = \"f = open('.toto.py', 'r');print(f.read())\";\n",
    "        IPython.notebook.kernel.execute(cmd, {iopub: callback}, {silent: false});\n",
    "        return false;\n",
    "    }}\n",
    ");"
   ]
  },
  {
   "cell_type": "code",
   "execution_count": 11,
   "metadata": {
    "collapsed": false
   },
   "outputs": [
    {
     "data": {
      "text/html": [
       "\n",
       "<style>\n",
       ".title{\n",
       "direction: rtl;\n",
       "padding-right: 2cm;\n",
       "\n",
       "}\n",
       "\n",
       ".arabic{\n",
       "direction:rtl;\n",
       "font-size:20px;\n",
       "line-height:40px;\n",
       "padding-right: 1cm;\n",
       "padding-left: 1cm;\n",
       "text-align:justify;\n",
       "}\n",
       "</style>\n"
      ],
      "text/plain": [
       "<IPython.core.display.HTML object>"
      ]
     },
     "execution_count": 11,
     "metadata": {},
     "output_type": "execute_result"
    }
   ],
   "source": [
    "from IPython.core.display import HTML\n",
    "HTML(\"\"\"\n",
    "<style>\n",
    ".title{\n",
    "direction: rtl;\n",
    "padding-right: 2cm;\n",
    "\n",
    "}\n",
    "\n",
    ".arabic{\n",
    "direction:rtl;\n",
    "font-size:20px;\n",
    "line-height:40px;\n",
    "padding-right: 1cm;\n",
    "padding-left: 1cm;\n",
    "text-align:justify;\n",
    "}\n",
    "</style>\n",
    "\"\"\")"
   ]
  },
  {
   "cell_type": "markdown",
   "metadata": {
    "collapsed": false
   },
   "source": [
    "<h1 class=title>\n",
    "مقدمة\n",
    "<h1>\n",
    "<div class=arabic>\n",
    "\n",
    "الحمد لله الذي تتم بفضله الصالحات واصلي وأسلم على خير البشر نبينا محمد صلى الله عليه وسلم وعلى آله وصحبه الطيبين الطاهرين. اما بعد:\n",
    "فلقد لاحظت خلال فترة تعلمي للغة بايثون افتقار المكتبة العربية الى كتاب مكتمل يشرح مبادي هذه اللغة بشكل منظم وبسيط. فعقدت العزم على تأليف هذه الكتاب وذلك لما رايته من الأهمية بمكان ان يتعلم القارئ العربي هذه اللغة والتي أصبحت اللغة البرمجية المحبوبة لدي الكثير من العلماء والباحثين والمهندسين. فمعظم جامعات العالم اليوم أصبحت تدرسها لطلابها فهي لغة برمجة مشهورة , قوية ويمكن استخدامها في مجالات عدة. لذلك اردت ان يكون هذا الكتاب لبنة أولى للمساهمة في تعليم هذه اللغة. الذي امل ان يتم تدريسها في مدارسنا الحكومية في مراحل مبكرة كالمتوسطة والثانوية وذلك لان الأجيال الحالية على اطلاع واسع بالتقنية وخصوصا الكمبيوترية منها. فهي اصحبت قدرة على تعلمها والاستفادة منها دون مشقة. وبما ان هذا العمل بشري المصدر فانه لا يصل الى درجة الكمال لذلك ارجو ممن سنحت له الفرصة لقراءة هذا الكتاب ان يساهم في تحسين هذا الكتاب بارسال ملاحظاته الى ايميل المؤلف \n",
    "ahmad.alsaadi@kaust.edu.sa\n",
    " الذي يعدكم على انه سوف يعمل على اخذها في الاعتبار متى ما سنحت الفرصة لاصدار طبعة جديدة لهذا الكتاب.\n",
    "</div>"
   ]
  },
  {
   "cell_type": "markdown",
   "metadata": {},
   "source": [
    "<h1 class=title>\n",
    "المبادئ الأساسية للغة بايثون\n",
    "<h1>\n",
    "<div class=arabic>\n",
    "\n",
    "بعد ان تأكدنا من ان نظام التشغيل الذي نعمل عليه يحتوي على احدى اصدارات لغة بايثون يمكننا الان ان نبدأ رحلة التعلم والتى اتمنى ان تكون حافلة بالمتعة والفائدة.\n",
    "<br>\n",
    "<h2 class=title>\n",
    "\n",
    "أهداف الباب\n",
    "</h2>\n",
    "عند اتمام هذا الباب يجب ان يكون لديك المام بعدة مبادئ اساسية عن لغة بايثون والتي من اهمها:\n",
    "<br>\n",
    "<ol>\n",
    "<li>\n",
    "\n",
    "بايثون لغة تفرق بين كون احرف التركيب اللغوي مكتوبة باحرف صغيرة ام كبيرة وتتعامل معها بشكل مختلف\n",
    "<li>\n",
    "\n",
    "بايثون تهتم بعدد المسافات المتروكة قبل بداية كل سطر برمجي\n",
    "<li>\n",
    "\n",
    "كيفية طباعة نص على شاشة الكمبيوتر\n",
    "<li>\n",
    "\n",
    "طريقة تدوين الملاحظات على الكود البرمجي\n",
    "<li>\n",
    "\n",
    "اجراء العمليات الحسابية الاساسية\n",
    "<li> \n",
    "\n",
    "طريقة كتابة المتغيرات\n",
    "<li>\n",
    "\n",
    " لتخزين البيانات من اجل تحليلها ومعالجتها\n",
    "<li>\n",
    "\n",
    "أنواع البيانات في بايثون\n",
    "</ol>\n",
    "<h2 class=title>\n",
    "\n",
    "استخدام الاحرف الكبيرة والصغيرة:\n",
    "</h2>\n",
    "لغتنا العربية الجميلة لاتحوي على مفهوم الحروف الصغيرة والكبيرة بعكس ما هو موجود في اللغة لانجليزية. وبما ان لغة بايثون مكتوبة باللغة الانجليزية فان هذه اللغة تهتم بما اذا كان الكود البرمجي او جزء منه مكتوب بالاحرف الصغيرة او الكبيرة. فالامر \n",
    "<font color=\"blue\"> print </font>\n",
    "\n",
    " مثلا يكتب بالاحرف الصغيرة كما في المثال التالي:\n",
    "</div>\n",
    "\n"
   ]
  },
  {
   "cell_type": "code",
   "execution_count": 14,
   "metadata": {
    "collapsed": false
   },
   "outputs": [
    {
     "name": "stdout",
     "output_type": "stream",
     "text": [
      "Welocme to python\n"
     ]
    }
   ],
   "source": [
    "print(\"Welocme to python\")"
   ]
  },
  {
   "cell_type": "markdown",
   "metadata": {},
   "source": [
    "<div class=arabic>\n",
    "ولكن عندما نحاول كتابته احد حروف هذا الامر بحرف كبير فان مفسر لغة بايثون يعطينا خطأ مخبرا ان التركيب اللغوي غير صحيح كما في المثال التالي:\n",
    "</div>"
   ]
  },
  {
   "cell_type": "code",
   "execution_count": 16,
   "metadata": {
    "collapsed": false
   },
   "outputs": [
    {
     "ename": "SyntaxError",
     "evalue": "invalid syntax (<ipython-input-16-9371d9ed656d>, line 1)",
     "output_type": "error",
     "traceback": [
      "\u001b[1;36m  File \u001b[1;32m\"<ipython-input-16-9371d9ed656d>\"\u001b[1;36m, line \u001b[1;32m1\u001b[0m\n\u001b[1;33m    prinT \"welcome to python\"\u001b[0m\n\u001b[1;37m                            ^\u001b[0m\n\u001b[1;31mSyntaxError\u001b[0m\u001b[1;31m:\u001b[0m invalid syntax\n"
     ]
    }
   ],
   "source": [
    "prinT \"welcome to python\""
   ]
  },
  {
   "cell_type": "markdown",
   "metadata": {
    "collapsed": false
   },
   "source": [
    "<div class=arabic>\n",
    "ربما قد تبادر الى اذهان البعض الان ان تذكر وضع حالة الاحرف ما اذا كانت صغيرة ام كبيرة  يعد امرا شاقا. لكن علينا ان نتادرك الموقف بسرعة ونبين لهم ان هناك ضوابط وضعت من قبل مطويرين لغة بايثون تجعل من تذكر وضع حالة الاحرف غاية في السهولة.\n",
    "<br>\n",
    "<ul>\n",
    "<li>\n",
    "الضابط الاول: ان جميع اوامر لغة بايثون دائما تكون مكتوبة بالاحرف الصغيرة.\n",
    "<li> \n",
    "الضابط الثاني :ان الاحرف الكبيرة  تستخدم فقط عند كتابة الثوابت. \n",
    "</ul>\n",
    " \n",
    " قد لا يكون هذا الامرواضحا بما فية الكفاية الان ولكن أعدك ان أوضح هذه المسألة بعد ان أتطرق الى المفاهيم  الاساسية في لغة بايثون. فكل ما عليك فهمه الآن هو ان لغة بايثون تفرق بين حالة الاحرف الصغيرة والكبيرة في تراكيبها اللغوية.\n",
    "\n",
    "ترك مسافات في تركيب بايثون اللغوي\n",
    "في حين ان لغات البرمجة الاخرى تستخدم مصطلحات واقواس لتحديد بداية ونهاية الاجزاء  الداخلية للكود البرمجي فان لغة بايثون تتبع نظام ترك المسافات عند بداية كتابة السطر البرمجي لاداء نفس المهمة. فلغة جافا تستخدم الاقواس لتحديد جزئية الكود الداخلي و علاقته ببقية الاجزاء كما في المثال التالي:\n",
    "</div>"
   ]
  },
  {
   "cell_type": "raw",
   "metadata": {
    "collapsed": true
   },
   "source": [
    "public class HelloWorld {\n",
    "   public static void main(String[] args) {\n",
    "   \n",
    "      System.out.println(\"Hello, World\");\n",
    "   }\n",
    "}"
   ]
  },
  {
   "cell_type": "markdown",
   "metadata": {},
   "source": [
    "<div class=arabic>\n",
    "بينما لغة بايثون تعمد الى ترك مسافة عند بداية كتابة الجزء الداخلى للكود لتجديد مداه وعلاقتة بالاجزاء الاخرى كما في المثال التالي:\n",
    "</div>"
   ]
  },
  {
   "cell_type": "code",
   "execution_count": 28,
   "metadata": {
    "collapsed": false
   },
   "outputs": [
    {
     "name": "stdout",
     "output_type": "stream",
     "text": [
      "1\n",
      "2\n",
      "3\n",
      "4\n"
     ]
    }
   ],
   "source": [
    "for i in [1,2,3,4]:\n",
    "    print (i)"
   ]
  },
  {
   "cell_type": "markdown",
   "metadata": {},
   "source": [
    "<div class=arabic>\n",
    "ليس من المهم ان تفهم وظيفة الكود البرمجي السابق الان لاننا سوف نتطرق اليه في وقت لاحق ولكن المهم ان تعرف ان لغة بايثون تهتم بترك مسافات عند بداية كتابة الاسطر البرمجية لتحديد الاجزاء الداخلية من الكود.فعند كتابة برنامج من سطر واحد مثلا فان ترك اي مسافة قبل بداية السطر البرمجي يجعل مفسر بايثون يرفض التركيب اللغوي و يظهر رسالة تبين سبب المشكلة هو ترك مسافة عند بداية كتابة السطر البرمجي في موضع لايستدعي ترك اي مسافة. لكن ترك مسافة في اي موضع اخى من السطر ليس له اي تأثير على التركيب اللغوي. كما يجب الاشارة الى ان ترك اسطر فارغة بين اسطر الكود البرمجي ليس له اي تأثير يذكر ايضا. سوف نعاود الحديث عن ترك المسافات عندما نبدأ الحديث عن الحلقات التكرارية والدوال في بايثون حيث تستدعى الحاجة للحديث عن ترك مسافات عند كتابة هذه التراكيب اللغوية.\n",
    "<br>\n",
    "<h2 class=title>\n",
    "طباعة نص على شاشة الكمبيوتر\n",
    "</h2>\n",
    "كما هو المعتاد في تعلم اي لغة برمجة جديدة فان البدء دايما ما يكون بتعلم كيفية طباعة نص على شاشة الكمبيوتر. وسوف نسير على هذا العرف نحن هنا ايضا. فامر الطباعة على الشاشة في بايثون يكون باسيتخدام الامر print متبوعا بما يراد طباعتة. وبما اننا في بداية المشوار ولم نتطرق لمفوهم المتغيرات فسوف نبدأ بطباعة النصوص اولا. فالسطر البرمجي  التالي يقوم بطباعة\n",
    "</div>"
   ]
  },
  {
   "cell_type": "code",
   "execution_count": 33,
   "metadata": {
    "collapsed": false
   },
   "outputs": [
    {
     "data": {
      "application/javascript": [
       "\n",
       "IPython.keyboard_manager.command_shortcuts.add_shortcut('g', {\n",
       "    handler : function (event) {\n",
       "        var input = IPython.notebook.get_selected_cell().get_text();\n",
       "        var cmd = \"f = open('.toto.py', 'w');f.close()\";\n",
       "        if (input != \"\") {\n",
       "            cmd = '%%writefile .toto.py\\n' + input;\n",
       "        }\n",
       "        IPython.notebook.kernel.execute(cmd);\n",
       "        cmd = \"import os;os.system('gedit .toto.py')\";\n",
       "        IPython.notebook.kernel.execute(cmd);\n",
       "        return false;\n",
       "    }}\n",
       ");\n",
       "\n",
       "IPython.keyboard_manager.command_shortcuts.add_shortcut('u', {\n",
       "    handler : function (event) {\n",
       "        function handle_output(msg) {\n",
       "            var ret = msg.content.text;\n",
       "            IPython.notebook.get_selected_cell().set_text(ret);\n",
       "        }\n",
       "        var callback = {'output': handle_output};\n",
       "        var cmd = \"f = open('.toto.py', 'r');print(f.read())\";\n",
       "        IPython.notebook.kernel.execute(cmd, {iopub: callback}, {silent: false});\n",
       "        return false;\n",
       "    }}\n",
       ");"
      ],
      "text/plain": [
       "<IPython.core.display.Javascript object>"
      ]
     },
     "metadata": {},
     "output_type": "display_data"
    }
   ],
   "source": [
    "\n"
   ]
  },
  {
   "cell_type": "markdown",
   "metadata": {},
   "source": [
    "<div class=arabic>\n",
    "لاحظ ان هناك قواعد يجب معرفتها عند طباعة النصوص ومن بين هذه القواعد مايلي:\n",
    "<br>\n",
    "يمكن استخدام علامات التنصيص الاحادية (’) او الثنائية (\") او الثلاثية (’\") لتحيط بالنص المراد طباعته على الشاشة. مع ملاحظة انه يجب ان تسخدم نفس علامة التنصيص في بداية النص واخره وعدم الخلط بينها. كما هو موضح في المثال التالي:\n",
    "<br>\n",
    "</div>\n",
    "\n"
   ]
  },
  {
   "cell_type": "code",
   "execution_count": 37,
   "metadata": {
    "collapsed": false
   },
   "outputs": [
    {
     "name": "stdout",
     "output_type": "stream",
     "text": [
      "welcome to python\n",
      "welcome to python\n",
      "welcome to python\n"
     ]
    }
   ],
   "source": [
    "print('welcome to python')\n",
    "print(\"welcome to python\")\n",
    "print('''welcome to python''')"
   ]
  },
  {
   "cell_type": "markdown",
   "metadata": {},
   "source": [
    "<div class=arabic>\n",
    "عندما نقوم باستخدام علامتي تنصيص مختلفة فان ذلك سوف يجعل مفسر لغة بايثون يظهر رسالة تفيد بوجود خطأ كما في المثال التالي:\n",
    "</div>"
   ]
  },
  {
   "cell_type": "code",
   "execution_count": 40,
   "metadata": {
    "collapsed": false
   },
   "outputs": [
    {
     "ename": "SyntaxError",
     "evalue": "EOL while scanning string literal (<ipython-input-40-314a6067dc16>, line 1)",
     "output_type": "error",
     "traceback": [
      "\u001b[1;36m  File \u001b[1;32m\"<ipython-input-40-314a6067dc16>\"\u001b[1;36m, line \u001b[1;32m1\u001b[0m\n\u001b[1;33m    print('welcome to python\")\u001b[0m\n\u001b[1;37m                              ^\u001b[0m\n\u001b[1;31mSyntaxError\u001b[0m\u001b[1;31m:\u001b[0m EOL while scanning string literal\n"
     ]
    }
   ],
   "source": [
    "print('welcome to python\")"
   ]
  },
  {
   "cell_type": "markdown",
   "metadata": {},
   "source": [
    "<div class=arabic>\n",
    "علامة التنصيص الاحادية والثنائية تستخدم لكاتبة نصوص من سطر واحد بينما علامة التنصيص الثلاثية تسمح بطباعة اكثر من سطر. كما في المثال التالي:\n",
    "</div>"
   ]
  },
  {
   "cell_type": "code",
   "execution_count": 41,
   "metadata": {
    "collapsed": false
   },
   "outputs": [
    {
     "name": "stdout",
     "output_type": "stream",
     "text": [
      "welcome\n",
      "to \n",
      "python\n",
      "\n"
     ]
    }
   ],
   "source": [
    "print('''welcome\n",
    "to \n",
    "python\n",
    "''')"
   ]
  },
  {
   "cell_type": "code",
   "execution_count": 42,
   "metadata": {
    "collapsed": false
   },
   "outputs": [
    {
     "ename": "SyntaxError",
     "evalue": "EOL while scanning string literal (<ipython-input-42-5fc875d5d1be>, line 1)",
     "output_type": "error",
     "traceback": [
      "\u001b[1;36m  File \u001b[1;32m\"<ipython-input-42-5fc875d5d1be>\"\u001b[1;36m, line \u001b[1;32m1\u001b[0m\n\u001b[1;33m    print('welcome\u001b[0m\n\u001b[1;37m                  ^\u001b[0m\n\u001b[1;31mSyntaxError\u001b[0m\u001b[1;31m:\u001b[0m EOL while scanning string literal\n"
     ]
    }
   ],
   "source": [
    "print('welcome\n",
    "      to \n",
    "      python')"
   ]
  },
  {
   "cell_type": "markdown",
   "metadata": {},
   "source": [
    "<div class=arabic>\n",
    "يمكن استخدام رمز التجاهل \"\\\" لتمكين علامة التنصيص الاحادية والثنائية من طباعة اكثر من سطر على الشاشة. كما في المثال التالي:\n",
    "</div>"
   ]
  },
  {
   "cell_type": "code",
   "execution_count": 44,
   "metadata": {
    "collapsed": false
   },
   "outputs": [
    {
     "name": "stdout",
     "output_type": "stream",
     "text": [
      "welcome to python\n",
      "welcome to python\n"
     ]
    }
   ],
   "source": [
    "print ('welcome \\\n",
    "to \\\n",
    "python')\n",
    "\n",
    "print(\"welcome \\\n",
    "to \\\n",
    "python\")"
   ]
  },
  {
   "cell_type": "markdown",
   "metadata": {},
   "source": [
    "<div class=arabic>\n",
    "يمكن استخدام علامة تنصيص او اكثر داخل علامتي تنصيص ولكن بعد التأكد من ان علامة التنصيص الداخلية مختلفة عن علامة التنصيص المستخدمة في بداية ونهاية النص. كما يمكن استخدام رمز التجاهل المشار اليه سابقا لاداء نفس الوظيفة.  كما ماهو موضح في الامثلة التالية:\n",
    "</div>"
   ]
  },
  {
   "cell_type": "code",
   "execution_count": 46,
   "metadata": {
    "collapsed": false
   },
   "outputs": [
    {
     "name": "stdout",
     "output_type": "stream",
     "text": [
      "they're like python\n",
      "they're like python\n"
     ]
    }
   ],
   "source": [
    "print(\"they're like python\")\n",
    "print('they\\'re like python')"
   ]
  },
  {
   "cell_type": "markdown",
   "metadata": {},
   "source": [
    "<h2 class=title>\n",
    "تدوين الملاحظات\n",
    "</h2>\n",
    "<div class=arabic>\n",
    "تسمح لغة بايثون كغيرها من لغات البرمجة للمبرمج بان يكتب ملاحظاته داخل الكود البرمجي من اجل ان تساعدة على تذكر وظيفة الكود البرمجي او من اجل اعطاء شروحات وافيه للمبرمجين الاخرين الذين قد يعملون على صيانة وتطوير الكود البرمجي في المستقبل. ويمكن كتابة ملاحظة من سطر واحد في اي مكان من الكود البرمجي ولكن بعد ان يسبق الملاحظة علامات الهاشتاق \n",
    "(#)\n",
    "كما في المثال التالي:\n",
    "</div>"
   ]
  },
  {
   "cell_type": "code",
   "execution_count": 47,
   "metadata": {
    "collapsed": false
   },
   "outputs": [
    {
     "name": "stdout",
     "output_type": "stream",
     "text": [
      "welcome to python\n"
     ]
    }
   ],
   "source": [
    "print(\"welcome to python\")    # ملاحظات وتعليقات على الكود تكتب بعد"
   ]
  },
  {
   "cell_type": "markdown",
   "metadata": {},
   "source": [
    "<div class=arabic>\n",
    "كما يمكن كتابة ملاحظة متعددة السطور باستخادام علامة التنصيص الثلاثية كما في المثال التالي:\n",
    "</div>"
   ]
  },
  {
   "cell_type": "code",
   "execution_count": 50,
   "metadata": {
    "collapsed": false
   },
   "outputs": [
    {
     "name": "stdout",
     "output_type": "stream",
     "text": [
      "welcome to python\n"
     ]
    }
   ],
   "source": [
    "'''تعليقات تكتب بين علامتي تنصيص ثلاثية لتوثيق الكود وكتابة تعليمات تساعد على كيفية استخدامه'''\n",
    "\n",
    "print('welcome to python')"
   ]
  },
  {
   "cell_type": "markdown",
   "metadata": {},
   "source": [
    "<h2 class=title>\n",
    "أنواع البيانات\n",
    "</h2>\n",
    "<div class=arabic>\n",
    "\n",
    "لتنقسم انواع البيانات في بايثون لثلاثة اقسام. بيانات رقمية وبيانات منطقية وبيانات نصية. البيانات الرقمية تشمل:\n",
    "<br>\n",
    "<h3 class=title>\n",
    "البيانات المنطقية\n",
    "</h3>\n",
    " وهي البيانات التي تحتوي على قيمتين فقط صح أو خطأ\n",
    "<h3 class=title>\n",
    "القيم العددية\n",
    "</h3>\n",
    "تشمل الاعداد الاعداد الطبيعية \".....\" والاعداد ذات الفاصلة والاعداد الثنائية التى تتكون قيمة صفر وواحد وبيانات ست عشرية والتي تاخذ القيم من صفر لتسعة بالاضافة الى الخمسة الحروف الاولى من اللغة الانجليزية.\n",
    "<h3 class=title>\n",
    "\n",
    "القوائم\n",
    "</h3>\n",
    "<h3 class=title>\n",
    "\n",
    "المجموعات\n",
    "</h3>\n",
    "<h3 class=title>\n",
    "\n",
    "المترافقات\n",
    "</h3>\n",
    "\n",
    "القواميس\n",
    "\n",
    " : هي عبارة عن مجموعة من البيانات الثنائية توضع بين قوسين متعرجين . جزءها الاول يسمى المفتاح\n",
    "\n",
    "والآخر يسمى القيمة\n",
    "\n",
    "يتم الفصل بين هذين الجزئين بنقطتين فوق بعض \n",
    "\n",
    "ويتم الفصل بين كل بيان ثنائي وآخر بفاصلة كما في المثال التالي:\n",
    "</div>\n",
    "\n"
   ]
  },
  {
   "cell_type": "code",
   "execution_count": null,
   "metadata": {
    "collapsed": true
   },
   "outputs": [],
   "source": []
  }
 ],
 "metadata": {
  "anaconda-cloud": {},
  "kernelspec": {
   "display_name": "Python [Root]",
   "language": "python",
   "name": "Python [Root]"
  },
  "language_info": {
   "codemirror_mode": {
    "name": "ipython",
    "version": 3
   },
   "file_extension": ".py",
   "mimetype": "text/x-python",
   "name": "python",
   "nbconvert_exporter": "python",
   "pygments_lexer": "ipython3",
   "version": "3.5.2"
  }
 },
 "nbformat": 4,
 "nbformat_minor": 0
}
