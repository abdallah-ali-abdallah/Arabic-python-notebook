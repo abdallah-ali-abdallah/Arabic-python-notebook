{
 "cells": [
  {
   "cell_type": "markdown",
   "metadata": {},
   "source": [
    "<div class=arabic>\n",
    "<hr class=horizontal>\n",
    "<center>\n",
    "<a id=\"chapter3\"></a>\n",
    "<h1 class=title>\n",
    "الفصل الثامن : خصائص متقدمة للغة بايثون\n",
    "</h1>\n",
    "</center>\n",
    "<hr class=horizontal>\n",
    "</div>"
   ]
  },
  {
   "cell_type": "markdown",
   "metadata": {},
   "source": [
    "<div class=arabic>\n",
    "<h2> المنسقات</h2>\n",
    "</div>"
   ]
  },
  {
   "cell_type": "markdown",
   "metadata": {},
   "source": [
    "<div class=arabic>\n",
    "المنسقات هي عبارة عن دوال يمكنها استدعاء دوال و ارجاع دوال كمخرجات لهذه الدوال.لاحظ المثال التالي للتوضيح\n",
    "\n",
    "</div>"
   ]
  },
  {
   "cell_type": "code",
   "execution_count": 218,
   "metadata": {
    "collapsed": true
   },
   "outputs": [],
   "source": [
    "def decorated_by(func):\n",
    "    func.__doc__ +=\"تم تنسيق الدالة بواسطة دالة منسقة\"\n",
    "    return func"
   ]
  },
  {
   "cell_type": "markdown",
   "metadata": {},
   "source": [
    "<div class=arabic>\n",
    "لنقوم الان بتعريف دالة بسيطة تقوم بجمع رقمين وارجاع ناتج الجمع. كما تحتوي هذه الدالة على ملاحظات تفيد وظيفة الداله كما في المثال التالي:\n",
    "</div>"
   ]
  },
  {
   "cell_type": "code",
   "execution_count": 164,
   "metadata": {
    "collapsed": true
   },
   "outputs": [],
   "source": [
    "def add(x,y):\n",
    "    '''this function add two numbers and return their sum \\n'''\n",
    "    return x+y"
   ]
  },
  {
   "cell_type": "markdown",
   "metadata": {},
   "source": [
    "<div class=arabic>\n",
    "لاحظ انه عند استخدام الامر \\__doc\\__ على الدالة add فانها تقوم باظهار الملاحظات تم كتابتها لتوضيح وظيفة الدالة كما في المثال التالي:\n",
    "</div>"
   ]
  },
  {
   "cell_type": "code",
   "execution_count": 165,
   "metadata": {},
   "outputs": [
    {
     "name": "stdout",
     "output_type": "stream",
     "text": [
      "this function add two numbers and return their sum \n",
      "\n"
     ]
    }
   ],
   "source": [
    "print(add.__doc__)"
   ]
  },
  {
   "cell_type": "code",
   "execution_count": 166,
   "metadata": {
    "collapsed": true
   },
   "outputs": [],
   "source": [
    "add=decorated_by(add)"
   ]
  },
  {
   "cell_type": "code",
   "execution_count": 167,
   "metadata": {},
   "outputs": [
    {
     "name": "stdout",
     "output_type": "stream",
     "text": [
      "this function add two numbers and return their sum \n",
      "تم تنسيق الدالة بواسة دالة منسقة\n"
     ]
    }
   ],
   "source": [
    "print(add.__doc__)"
   ]
  },
  {
   "cell_type": "markdown",
   "metadata": {},
   "source": [
    "<div class=arabic>\n",
    "لاحظ ان الدالة المنسقة decorated_by اخذت الدالة add كمدخلات وقامت بتعديل الملاحظات الخاصة بالدالة بحيث اضافة عليه سطر اخر من الملاحظات واعادة الدالة بعد التعديل عليها. لذلك عندما قمنا بطباعة ملاحظات الدالة المعدلة وجدنا التعديل قد ظهر في امر الطابعة الثاني.\n",
    "\n",
    "</div>"
   ]
  },
  {
   "cell_type": "markdown",
   "metadata": {},
   "source": [
    "<div class=arabic>\n",
    "ان عملية تعديل دالة واعادة تسميتها بنفص الاسم قد يسبب بعض التشويش في ذهن المبرمج لذلك تم استحداث طريقة سلهة لاحداث التعديل على الدالة دون اللجوء الى تغيير اسمها وذلك باستخدم الرمز @ متعبوعا باسم الدالة المنسقة فوق الدالة المراد التعديل عليها كما في المثال التالي:\n",
    "</div>"
   ]
  },
  {
   "cell_type": "code",
   "execution_count": 180,
   "metadata": {
    "collapsed": true
   },
   "outputs": [],
   "source": [
    "def decorated_by2(func):\n",
    "    func.__doc__ +=\"تم تنسيق الدالة بصورة  اسهل\"\n",
    "    return func"
   ]
  },
  {
   "cell_type": "code",
   "execution_count": 181,
   "metadata": {},
   "outputs": [
    {
     "name": "stdout",
     "output_type": "stream",
     "text": [
      "this function add two numbers and return their sum \n",
      "تم تنسيق الدالة بصورة  اسهل\n"
     ]
    }
   ],
   "source": [
    "@decorated_by2\n",
    "def add(x,y):\n",
    "    '''this function add two numbers and return their sum \\n'''\n",
    "    return x+y\n",
    "\n",
    "print(add.__doc__)"
   ]
  },
  {
   "cell_type": "code",
   "execution_count": null,
   "metadata": {
    "collapsed": true
   },
   "outputs": [],
   "source": []
  },
  {
   "cell_type": "markdown",
   "metadata": {},
   "source": [
    "<div class=arabic>\n",
    "<h2>ترتيب المنسقات</h2>\n",
    "يمكن تطبيق اكثر من دالة منسقة على دالة اخرى كما في المثال التالي:\n",
    "</div>"
   ]
  },
  {
   "cell_type": "code",
   "execution_count": 185,
   "metadata": {},
   "outputs": [
    {
     "name": "stdout",
     "output_type": "stream",
     "text": [
      "this function add two numbers and return their sum \n",
      "المنسقة الاولى \n",
      "المنسقة الثانية\n"
     ]
    }
   ],
   "source": [
    "def decorated_by_one(func):\n",
    "    func.__doc__ +='المنسقة الاولى \\n'\n",
    "    return func\n",
    "def decorated_by_two(func):\n",
    "    func.__doc__ +='المنسقة الثانية'\n",
    "    return func\n",
    "\n",
    "@decorated_by_two\n",
    "@decorated_by_one\n",
    "def add(x,y):\n",
    "    '''this function add two numbers and return their sum \\n'''\n",
    "    return x+y\n",
    "\n",
    "print(add.__doc__)"
   ]
  },
  {
   "cell_type": "markdown",
   "metadata": {},
   "source": [
    "<div class=arabic>\n",
    "وما يجب ملاحظته من المثال السابق هو طريقة تطبيق المنسقات يبدا من الاسفل الى الاعلى. فلقد تم تطبيق الدالة المنسقة decorated_by_one  اولا ثم تم تطبيق الدالة المنسقة الثانية decorated_by_two. لذلك يجب التنبه الى عملية الترتيب هذه.\n",
    "</div>"
   ]
  },
  {
   "cell_type": "markdown",
   "metadata": {},
   "source": [
    "<div class=arabic>\n",
    "تمرين: قم بعكس ترتيب المنسقات في المثال السابق بحيث تصبح المنسقة decorated_by_two تقع مباشرة فوق الدالة add ثم ضع المنسقة decorated_by_one فوق المنسقة الثانية ولاحظ الفرق بين نتيجة هذا التغيير ونتيجة المثال السابق؟\n",
    "</div>"
   ]
  },
  {
   "cell_type": "markdown",
   "metadata": {},
   "source": [
    "<div class=arabic>\n",
    "<h2>اين يمكنا استخدام المنسقات</h2>\n",
    "مكتبة بايثون الاساسية تحتوي على منسقات فمثلا عندما نريد ان نستحدم دالة في مصنف لا يحتاج الى على عمل نسخة من المصنف فاننا نستخدم المنسقة @classmethod او @staticmethod.\n",
    "كما ان هناك اطارات عمل مثل flask تستخدم المنسقة @app.route للربط بين الدوال و عناوين الصفحات عندما تستدعى من المتصفح. وكذلك اطار العمل  Django والذي يستحدم المنسقة @login_required للتأكد من تسجيل الدخول قبل الدخول الى صفحات الموقع.\n",
    "كما يمكن استخدام المنسقات عندما نرغب بالتاكد من ملاءمة مدخلات دالة ما من حيث القيمة والنوع كما في المثال التالي: \n",
    "</div>"
   ]
  },
  {
   "cell_type": "code",
   "execution_count": 188,
   "metadata": {},
   "outputs": [
    {
     "data": {
      "text/plain": [
       "{}"
      ]
     },
     "execution_count": 188,
     "metadata": {},
     "output_type": "execute_result"
    }
   ],
   "source": [
    "add.__annotations__"
   ]
  },
  {
   "cell_type": "markdown",
   "metadata": {},
   "source": [
    "<div class=arabic>\n",
    "<h2>أهمية المنسقات</h2>\n",
    "استخدام المنسقات يعتبر طريقة ذكية في كتابة الكود البرمجي فهي تساعد على سهولة قراءته واكتشاف الاخطاء به. كما ان استخدام المنسقات يجعل الكود البرمجي مستقل الاجزاء بحيث يمكن التعديل على الدالة باضافة او ازالة دون المساس بالكود البرمجي الموجود داخل الدالة المراد التعديل عليها.\n",
    "</div>"
   ]
  },
  {
   "cell_type": "code",
   "execution_count": null,
   "metadata": {
    "collapsed": true
   },
   "outputs": [],
   "source": []
  },
  {
   "cell_type": "markdown",
   "metadata": {},
   "source": []
  }
 ],
 "metadata": {
  "kernelspec": {
   "display_name": "Python 3",
   "language": "python",
   "name": "python3"
  },
  "language_info": {
   "codemirror_mode": {
    "name": "ipython",
    "version": 3
   },
   "file_extension": ".py",
   "mimetype": "text/x-python",
   "name": "python",
   "nbconvert_exporter": "python",
   "pygments_lexer": "ipython3",
   "version": "3.6.1"
  }
 },
 "nbformat": 4,
 "nbformat_minor": 2
}
