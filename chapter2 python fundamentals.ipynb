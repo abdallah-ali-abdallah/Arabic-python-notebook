{
 "cells": [
  {
   "cell_type": "markdown",
   "metadata": {},
   "source": [
    "<div class=arabic>\n",
    "<hr class=horizontal>\n",
    "<center>\n",
    "<a id=\"chapter2\"></a>\n",
    "<h1 class=title>\n",
    "الفصل الثاني : المبادئ الأساسية للغة بايثون\n",
    "</h1>\n",
    "</center>\n",
    "<hr class=horizontal>\n",
    "بعد ان تأكدنا من ان نظام التشغيل الذي نعمل عليه يحتوي على احدى اصدارات لغة بايثون 3 يمكننا الان ان نبدأ رحلة التعلم والتى اتمنى ان تكون حافلة بالمتعة والفائدة.\n",
    "<br>\n",
    "<h2 class=title>\n",
    "\n",
    "أهداف الباب\n",
    "</h2>\n",
    "عند اتمام هذا الباب يجب ان يكون لديك المام بعدة مبادئ اساسية عن لغة بايثون والتي من اهمها:\n",
    "<br>\n",
    "<ol>\n",
    "<li> \n",
    "\n",
    "طريقة كتابة المتغيرات\n",
    "</li>\n",
    "<li>\n",
    "\n",
    "طريقة تدوين الملاحظات على الكود البرمجي\n",
    "</li>\n",
    "<li>\n",
    "\n",
    "كيفية طباعة نص على شاشة الكمبيوتر\n",
    "</li>\n",
    "\n",
    "<li>\n",
    "\n",
    "الفرق بين استخدام الاحرف الصغيرة والكبيرة في كتابة الكود البرمجي.\n",
    "</li>\n",
    "<li>\n",
    "\n",
    "اجراء العمليات الحسابية الاساسية\n",
    "</li>\n",
    "<li>\n",
    "\n",
    " انواع البيانات الاساسية في لغة بايثون.\n",
    "</li>\n",
    "<li>\n",
    "القاعدة التي تحكم عدد المسافات الفارغة المتروكة قبل بداية كل سطر برمجي\n",
    "\n",
    "</li>\n",
    "\n",
    "</ol>\n",
    "\n",
    "</div>\n",
    "\n"
   ]
  },
  {
   "cell_type": "markdown",
   "metadata": {},
   "source": [
    "<div class=arabic>\n",
    "<h2 class=title>\n",
    "المتغيرات\n",
    "</h2>\n",
    "\n",
    "\n",
    "المتغيرات هي اسماء تستخدم للدلالة على قيم بيانات موجودة في ذاكرة الكمبيوتر. واستخدام المتغيرات في كتابة الاكواد البرمجية ذو اهمية قصوى بحيث لا يكاد يخلو برنامج من وجود متغير واحد او اكثر وذلك لانها تسهل على المبرمج تذكر البيانات باسماء يسهل حفظها بدلا من استخدام قيم البيانات ذاتها. لاسناد قيمة الى متغير فاننا نختار اسما مناسب للمتغير ومن ثم نضع علامة اليساوي واخيرا نضع القيمة المراد اسنادها للمتغير كما في المثال التالي:\n",
    "</div>\n",
    "\n"
   ]
  },
  {
   "cell_type": "code",
   "execution_count": 1,
   "metadata": {
    "collapsed": true
   },
   "outputs": [],
   "source": [
    "x=5"
   ]
  },
  {
   "cell_type": "markdown",
   "metadata": {},
   "source": [
    "<div class=arabic>\n",
    "في المثال السابق علامة اليساوي تمسى معامل الاسناد. لذلك يصبح الان بمقدورنا استخدام x عوضا عن القيمة 5 في اي عمليات حسابية.  كما يجب التنويه الى ان قيمة x قابلة للتغيير. فعند تكرار المثال السابق باستخدام القيمة 10 فان  x اﻵن تصبح تشير للقيمة 10 عوضا عن القيمة 5 كما في المثال التالي:\n",
    "</div>\n",
    "\n"
   ]
  },
  {
   "cell_type": "code",
   "execution_count": 1,
   "metadata": {},
   "outputs": [
    {
     "data": {
      "text/plain": [
       "10"
      ]
     },
     "execution_count": 1,
     "metadata": {},
     "output_type": "execute_result"
    }
   ],
   "source": [
    "x=5\n",
    "x=10\n",
    "x"
   ]
  },
  {
   "cell_type": "markdown",
   "metadata": {},
   "source": [
    "<div class=arabic>\n",
    "ان لغة بايثون تتطلب التقيد بقواعد  اساسية عند كتابة أسماء المتغيرات وتتلخص هذه القواعد فيما يلي:\n",
    "<br>\n",
    "<ul>\n",
    "<li>\n",
    "\t\n",
    "  المتغيرات يجب ان تبدأ بحرف او شرطة سفلية. عدا ذلك فان مفسر بايثون يعطي رسالة بوجود خطأ\n",
    "<li>\n",
    "\n",
    "أسماء المتغيرات يمكن ان تكون حرف او كلمة او مجموعة كلمات مربوطة بشرطة سفلية\n",
    "<li>\n",
    "\n",
    "يمكن استخدام الارقام في كتابة أسماء المتغيرات ولكن لايمكن استخدامها في بداية الاسم\n",
    "<li>\n",
    "\n",
    "لايمكن استخدام اي رمز في كتابة المتغيرات عدا الاحرف والارقام والشرطة السفلية.\n",
    "<li>\n",
    "\n",
    "المتغيرات المكتوبة بالاحرف الكبيرة يتعامل معها مفسر بايثون على انها مختلفة عن المتغيرات المكتوبة بالاحرف الصغيرة.\n",
    "<li>\n",
    "\tأسماء المتغيرات يجب ان تكون مختلفة عن الكلمات المستخدمة في التركيب اللغوي للغة بايثون والجدول التالي يبين الكلمات المحجوزة من قبل لغة بايثون:\n",
    "</ul>\n",
    "\t \n",
    "</div>\n",
    "\n"
   ]
  },
  {
   "cell_type": "markdown",
   "metadata": {},
   "source": [
    "<table class=mytable>\n",
    "  <tr>\n",
    "    <td>and</td>\n",
    "    <td>as</td>\n",
    "    <td>assert</td>\n",
    "    <td>break</td>\n",
    "    <td>class</td>\n",
    "    <td>continue</td>\n",
    "  </tr>\n",
    "  <tr>\n",
    "    <td>def</td>\n",
    "    <td>del</td>\n",
    "    <td>elif</td>\n",
    "    <td>else</td>\n",
    "    <td>except</td>\n",
    "    <td>exec</td>\n",
    "  </tr>\n",
    "  <tr>\n",
    "    <td>finally</td>\n",
    "    <td>for</td>\n",
    "    <td>from</td>\n",
    "    <td>global</td>\n",
    "    <td>if</td>\n",
    "    <td>import</td>\n",
    "    \n",
    "  </tr>\n",
    " <tr>\n",
    "    <td>in</td>\n",
    "    <td>is</td>\n",
    "    <td>lambda</td>\n",
    "    <td>not</td>\n",
    "    <td>or</td>\n",
    "    <td>pass</td>\n",
    "  </tr>\n",
    " <tr>\n",
    "    <td>print</td>\n",
    "    <td>raise</td>\n",
    "    <td>return</td>\n",
    "    <td>try</td>\n",
    "    <td>while</td>\n",
    "     <td>whith</td>\n",
    "  </tr>\n",
    "  <tr>\n",
    "      <td>yiedl</td>\n",
    "  </tr>\n",
    "</table> \n",
    "\n"
   ]
  },
  {
   "cell_type": "markdown",
   "metadata": {},
   "source": [
    "<div class=arabic>\n",
    "المثال التالي يلخص القواعد السابقة:\n",
    "</div>"
   ]
  },
  {
   "cell_type": "code",
   "execution_count": 25,
   "metadata": {
    "collapsed": true
   },
   "outputs": [],
   "source": [
    "_car=2\n",
    "password=4\n",
    "user_code=56\n",
    "student1=80\n",
    "t2m=40"
   ]
  },
  {
   "cell_type": "markdown",
   "metadata": {},
   "source": [
    "<div class=arabic>\n",
    "<b>تمرين:</b>\n",
    "قم بتشغيل مفسر بايثون الثفاعلى واسند القيمة 100 للمتغير n. في سطر ثاني قم بتغير قيمة n الى القيمة 50. في سطر ثالث حاول ان تعرف القيمة النهائية للمتغير n ؟\n",
    "</div>\n",
    "\n"
   ]
  },
  {
   "cell_type": "code",
   "execution_count": 1,
   "metadata": {},
   "outputs": [
    {
     "data": {
      "text/plain": [
       "50"
      ]
     },
     "execution_count": 1,
     "metadata": {},
     "output_type": "execute_result"
    }
   ],
   "source": [
    "n=100\n",
    "n=50\n",
    "n"
   ]
  },
  {
   "cell_type": "code",
   "execution_count": 2,
   "metadata": {},
   "outputs": [
    {
     "name": "stdout",
     "output_type": "stream",
     "text": [
      "الاجابة صحيحة\n"
     ]
    }
   ],
   "source": [
    "if n==50:\n",
    "    print(\"الاجابة صحيحة\") \n",
    "else:\n",
    "    print(\"حاول مرة اخرى\")"
   ]
  },
  {
   "cell_type": "markdown",
   "metadata": {},
   "source": [
    "<div class=arabic>\n",
    "<h2 class=title>\n",
    "تدوين الملاحظات\n",
    "</h2>\n",
    "\n",
    "تسمح لغة بايثون كغيرها من لغات البرمجة للمبرمج بان يكتب ملاحظاته داخل الكود البرمجي من اجل ان تساعدة على تذكر وظيفة الكود البرمجي او من اجل اعطاء شروحات وافيه للمبرمجين الاخرين الذين قد يعملون على صيانة وتطوير الكود البرمجي في المستقبل. ويمكن كتابة ملاحظة من سطر واحد في اي مكان من الكود البرمجي ولكن بعد ان يسبق الملاحظة علامات الهاش تاق \n",
    "(#). فعند كتابة علامة (#) في بداية السطر فان بايثون يعتبر جميع محتويات هذا السطر ملاحظات للمستخدم وليست كود برمجي كما في المثال التالي:\n",
    "</div>\n",
    "\n"
   ]
  },
  {
   "cell_type": "code",
   "execution_count": 24,
   "metadata": {
    "collapsed": true
   },
   "outputs": [],
   "source": [
    "# ملاحظات وتعليقات على الكود تكتب هنا\n",
    "x=10  "
   ]
  },
  {
   "cell_type": "markdown",
   "metadata": {},
   "source": [
    "<div class=arabic>\n",
    "كما يمكن للمبرمج ان يدون ملاحظاته باستخدام علامة (#) بعد ان كتب سطر من الكود البرمجي كما في المثال التالي: \n",
    "</div>\n",
    "\n"
   ]
  },
  {
   "cell_type": "code",
   "execution_count": 22,
   "metadata": {
    "collapsed": true
   },
   "outputs": [],
   "source": [
    "x=10  # ملاحظات وتعليقات على الكود البرمجي تكتب هنا"
   ]
  },
  {
   "cell_type": "markdown",
   "metadata": {},
   "source": [
    "<div class=arabic>\n",
    "فمفسر بايثون هنا يتعامل مع الجزء الذي يسبق علامة (#) على انه كود برمجي يتحاج الى تفسير والجزء الذي يقع بعد علامة (#) يعتبره ملاحظات وتعليقات للمبرمج لاتحتاج الى تفسير فيتجاهلها.\n",
    "</div>\n",
    "\n"
   ]
  },
  {
   "cell_type": "markdown",
   "metadata": {},
   "source": [
    "<div class=arabic>\n",
    "كما يمكن كتابة ملاحظة متعددة السطور باستخادام علامة التنصيص الثلاثية كما في المثال التالي:\n",
    "</div>"
   ]
  },
  {
   "cell_type": "code",
   "execution_count": 23,
   "metadata": {
    "collapsed": true
   },
   "outputs": [],
   "source": [
    "'''\n",
    "تعليقات وملاحظات\n",
    "تعليقات وملاحظات\n",
    "تعليقات وملاحظات\n",
    "'''\n",
    "\n",
    "x=10"
   ]
  },
  {
   "cell_type": "markdown",
   "metadata": {},
   "source": [
    "<div class=arabic>\n",
    "وسوف نتحدث بشىئ من التفصيل عن انواع علامات التنصيص واستخداماتها ولكن ليس الان بل عند بدء الحديث عن البيانات النصية.\n",
    "</div>\n",
    "\n"
   ]
  },
  {
   "cell_type": "markdown",
   "metadata": {},
   "source": [
    "<div class=arabic>\n",
    "<h2 class=title>\n",
    "الطباعة على شاشة الكمبيوتر\n",
    "</h2>\n",
    "ان من المعتاد عند تعلم اي لغة برمجة جديدة ان يتم البدء بتعلم كيفية الطباعة على شاشة الكمبيوتر و ذلك لانها تعتبر وظيفة  اساسية في جميع لغات البرمجة.ونحن سوف نسير على هذا العرف هنا على الرغم من تأخيرنا له قليلا. فامر الطباعة على الشاشة في بايثون يكون باسيتخدام الدالة\n",
    "()<font color=\"green\">print</font>\n",
    "متبوعا بما يراد طباعته داخل قوسي الدالة. وبما اننا في بداية المشوار ولم نتطرق لمفوهم المتغيرات فسوف نبدأ بطباعة قيم رقمية اولا. فالسطر البرمجي  التالي يقوم بطباعة القيمة 5 على الشاشة:\n",
    "<div>\n",
    "\n"
   ]
  },
  {
   "cell_type": "code",
   "execution_count": 27,
   "metadata": {},
   "outputs": [
    {
     "name": "stdout",
     "output_type": "stream",
     "text": [
      "5\n"
     ]
    }
   ],
   "source": [
    "print(5)"
   ]
  },
  {
   "cell_type": "markdown",
   "metadata": {},
   "source": [
    "<div class=arabic>\n",
    "تمرين: قم باسناد القيمة 25 للمتغير m وفي سطر ثاني قم بطباعة قمية m؟\n",
    "</div>"
   ]
  },
  {
   "cell_type": "code",
   "execution_count": 2,
   "metadata": {},
   "outputs": [
    {
     "name": "stdout",
     "output_type": "stream",
     "text": [
      "25\n"
     ]
    }
   ],
   "source": [
    "m=25\n",
    "print(m)"
   ]
  },
  {
   "cell_type": "markdown",
   "metadata": {
    "collapsed": true
   },
   "source": [
    "<div class=arabic>\n",
    "<h2 class=title>\n",
    " الاحرف الكبيرة\n",
    "$ \\neq $\n",
    " الأحرف الصغيرة:\n",
    "</h2>\n",
    "لغتنا العربية الجميلة لاتحوي على مفهوم الحروف الصغيرة والكبيرة بعكس ما هو موجود في اللغة الانجليزية. وبما ان لغة بايثون مكتوبة باللغة الانجليزية فان هذه اللغة تهتم بما اذا كان الكود البرمجي او جزء منه مكتوب بالاحرف الصغيرة او الكبيرة. فالمتغير   b يتعامل معه مفسر بايثون على انه مختلف عن B. فعندما نسند القيمة 5 مثلا للمتغير b فان اسناد القيمة 10 للمتغير B لا يغير من قيمة b لان مفسر بايثون يتعامل معهما على انهما متغيرين مختلفين كما في المثال التالي:\n",
    "</div>\n",
    "\n"
   ]
  },
  {
   "cell_type": "code",
   "execution_count": 26,
   "metadata": {},
   "outputs": [
    {
     "name": "stdout",
     "output_type": "stream",
     "text": [
      "5\n",
      "10\n"
     ]
    }
   ],
   "source": [
    "b=5\n",
    "B=10\n",
    "print(b)\n",
    "print(B)"
   ]
  },
  {
   "cell_type": "markdown",
   "metadata": {},
   "source": [
    "<div class=arabic>\n",
    "<h2 class=title>\n",
    "اجراء العمليات الحسابية\n",
    "</h2>\n",
    "\n",
    "كما هو المعتاد مع لغات البرمجة الاخرى فان العمليات الحسابية الاساسية يمكن القيام بها باستخدام الرموز الاتية:\n",
    "<br>\n",
    "(+) للجمع\n",
    "<br>\n",
    "مثال:\n",
    "</div>\n",
    "\n"
   ]
  },
  {
   "cell_type": "code",
   "execution_count": 10,
   "metadata": {},
   "outputs": [
    {
     "name": "stdout",
     "output_type": "stream",
     "text": [
      "7\n"
     ]
    }
   ],
   "source": [
    "print(3+4)"
   ]
  },
  {
   "cell_type": "markdown",
   "metadata": {},
   "source": [
    "<div class=arabic>\n",
    "(-) للطرح\n",
    "<br>\n",
    "مثال:\n",
    "</div>"
   ]
  },
  {
   "cell_type": "code",
   "execution_count": 4,
   "metadata": {},
   "outputs": [
    {
     "name": "stdout",
     "output_type": "stream",
     "text": [
      "2\n"
     ]
    }
   ],
   "source": [
    "print(7-5)"
   ]
  },
  {
   "cell_type": "markdown",
   "metadata": {},
   "source": [
    "<div class=arabic>\n",
    "(*) للضرب\n",
    "<br>\n",
    "مثال:\n",
    "</div>"
   ]
  },
  {
   "cell_type": "code",
   "execution_count": 5,
   "metadata": {},
   "outputs": [
    {
     "name": "stdout",
     "output_type": "stream",
     "text": [
      "6\n"
     ]
    }
   ],
   "source": [
    "print(2*3)"
   ]
  },
  {
   "cell_type": "markdown",
   "metadata": {},
   "source": [
    "<div class=arabic>\n",
    "(/) للقسمة\n",
    "<br>\n",
    "مثال:\n",
    "</div>"
   ]
  },
  {
   "cell_type": "code",
   "execution_count": 6,
   "metadata": {
    "scrolled": true
   },
   "outputs": [
    {
     "name": "stdout",
     "output_type": "stream",
     "text": [
      "4.0\n"
     ]
    }
   ],
   "source": [
    "print(8/2)"
   ]
  },
  {
   "cell_type": "markdown",
   "metadata": {},
   "source": [
    "<div class=arabic>\n",
    "(\\**) للأس\n",
    "<br>\n",
    "مثال:\n",
    "</div>"
   ]
  },
  {
   "cell_type": "code",
   "execution_count": 7,
   "metadata": {},
   "outputs": [
    {
     "name": "stdout",
     "output_type": "stream",
     "text": [
      "9\n"
     ]
    }
   ],
   "source": [
    "print(3**2)"
   ]
  },
  {
   "cell_type": "markdown",
   "metadata": {},
   "source": [
    "<div class=arabic>\n",
    "(%)\n",
    "لباقي\n",
    "<br>\n",
    "مثال:\n",
    "</div>"
   ]
  },
  {
   "cell_type": "code",
   "execution_count": 8,
   "metadata": {},
   "outputs": [
    {
     "name": "stdout",
     "output_type": "stream",
     "text": [
      "1\n"
     ]
    }
   ],
   "source": [
    "print(7%3)"
   ]
  },
  {
   "cell_type": "markdown",
   "metadata": {},
   "source": [
    "<div class=arabic>\n",
    "(//)\n",
    "لناتج القسمة بعد اهمال الباقي \n",
    "<br>\n",
    "مثال:\n",
    "</div>"
   ]
  },
  {
   "cell_type": "code",
   "execution_count": 11,
   "metadata": {},
   "outputs": [
    {
     "name": "stdout",
     "output_type": "stream",
     "text": [
      "3\n"
     ]
    }
   ],
   "source": [
    "print(11//3)"
   ]
  },
  {
   "cell_type": "markdown",
   "metadata": {},
   "source": [
    "<div class=arabic>\n",
    "بالنسبة لعملية القسمة فان هناك اختلاف بسيط بين اصدارة بايثون 2 و 3 يجب التنبه عليه. فعند اجراء عملية القسمة في اصدارة بايثون 2 على اعداد طبيعية فان ناتج القسمة يكون عدد طبيعي. بمعنى انه اذا اردنا قسمة العدد 3 على العدد 2 مثلا فان ناتج القسمة يكون 1 وليس 1.5\n",
    "هذه المشكله غير موجوده في اصدارة بايثون 3.\n",
    "ولتصحيح هذه المشكلة لمن يستخدمون الاصدار 2 يمكنهم استخدام الاعداد الصحيحة في عملية القسمة سواء في البسط او المقام او كليهما.\n",
    "\n",
    "وكما هومتعارف عليه في علم الرياضيات فان عمليتي القسمة والضرب تسبق عملية الطرح والجمع وعملية الاس تسبق الضرب والجمع الا اذا استخدمت الاقواس لتحديد اسبقية العمليات الحسابية. وهذه امثلة اخرى توضح هذا المفهوم:\n",
    "</div>\n",
    "\n"
   ]
  },
  {
   "cell_type": "code",
   "execution_count": 13,
   "metadata": {
    "scrolled": true
   },
   "outputs": [
    {
     "name": "stdout",
     "output_type": "stream",
     "text": [
      "11\n"
     ]
    }
   ],
   "source": [
    "print( 3+4*2 )"
   ]
  },
  {
   "cell_type": "code",
   "execution_count": 14,
   "metadata": {},
   "outputs": [
    {
     "name": "stdout",
     "output_type": "stream",
     "text": [
      "4.0\n"
     ]
    }
   ],
   "source": [
    "print( 10/2-1 )"
   ]
  },
  {
   "cell_type": "code",
   "execution_count": 15,
   "metadata": {},
   "outputs": [
    {
     "name": "stdout",
     "output_type": "stream",
     "text": [
      "24.0\n"
     ]
    }
   ],
   "source": [
    "print( 10**2/5+4 )"
   ]
  },
  {
   "cell_type": "code",
   "execution_count": 16,
   "metadata": {},
   "outputs": [
    {
     "name": "stdout",
     "output_type": "stream",
     "text": [
      "14\n"
     ]
    }
   ],
   "source": [
    "print( (3+4)*2 )"
   ]
  },
  {
   "cell_type": "code",
   "execution_count": 12,
   "metadata": {},
   "outputs": [
    {
     "name": "stdout",
     "output_type": "stream",
     "text": [
      "5.0\n"
     ]
    }
   ],
   "source": [
    "print( 15/(6-3) )"
   ]
  },
  {
   "cell_type": "markdown",
   "metadata": {},
   "source": [
    "<div class=arabic>\n",
    "<h2 class=title>\n",
    "أنواع البيانات\n",
    "</h2>\n",
    "<h3 class=title>\n",
    "البيانات العددية\n",
    "</h3>\n",
    "\n",
    "\n",
    "لم نستخدم حتى الان الا نوع واحد من البيانات العددية وهي الاعداد الصحيحة (Integers) كالعدد 5 و 10 الخ. وهناك بيانات عددية اخرى كالاعداد العشرية (float) والبيانات الثنائية (binaries) والبيانات الست عشرية. فالاعداد العشرية هي الاعداد التي تحتوي على فاصلة عشرية سوا كانت موجبة او سالبة كما في المثال التالي:\n",
    "\n",
    "\n",
    "</div>\n",
    "\n"
   ]
  },
  {
   "cell_type": "code",
   "execution_count": 17,
   "metadata": {
    "collapsed": true
   },
   "outputs": [],
   "source": [
    "x=5.34\n",
    "y=-3.0"
   ]
  },
  {
   "cell_type": "markdown",
   "metadata": {},
   "source": [
    "<div class=arabic>\n",
    "أما الاعداد الثنائية فهي الاعداد التي تحتوي على قيمتين فقط 0 و 1. وللتفرقة بين هذا النوع من البيانات والاعداد الصحيحة يتم وضع \"0b\" قبل العدد الثنائي لكي يميزه عن الاعداد الصحيحة. فالعدد 0b11 عندما  يكتب في بايثون فان بايثون يتعرف عليه على انه عدد ثنائي. ولمعرفة قيمة 0b11 بالاعداد الصحيحة يمكن استخدام الدالة\n",
    "()<font color=\"green\">int</font>\n",
    "\n",
    "لتحويل العدد الثنائي لعدد صحيح كما في المثال التالي:\n",
    "\n",
    "</div>\n",
    "\n"
   ]
  },
  {
   "cell_type": "code",
   "execution_count": 3,
   "metadata": {},
   "outputs": [
    {
     "data": {
      "text/plain": [
       "3"
      ]
     },
     "execution_count": 3,
     "metadata": {},
     "output_type": "execute_result"
    }
   ],
   "source": [
    "x=0b11\n",
    "int(x)"
   ]
  },
  {
   "cell_type": "markdown",
   "metadata": {},
   "source": [
    "<div class=arabic>\n",
    "وللتحويل من الاعداد الصحيحة الى الاعداد الثنائية يمكن استخدام الدالة\n",
    "()<font color=\"green\">bin</font>\n",
    "كما في المثال التالي:\n",
    "</div>\n",
    "\n"
   ]
  },
  {
   "cell_type": "code",
   "execution_count": 3,
   "metadata": {},
   "outputs": [
    {
     "data": {
      "text/plain": [
       "'0b1010'"
      ]
     },
     "execution_count": 3,
     "metadata": {},
     "output_type": "execute_result"
    }
   ],
   "source": [
    "x=10\n",
    "bin(10)"
   ]
  },
  {
   "cell_type": "markdown",
   "metadata": {},
   "source": [
    "<div class=arabic>\n",
    "ولمعرفة الطريقة التفصيلية لطريقة التحويل من عدد ثنائي الى صحيح او العكس يمكن الرجوع الى الملحق أ للاستزادة.\n",
    "</div>"
   ]
  },
  {
   "cell_type": "markdown",
   "metadata": {},
   "source": [
    "<div class=arabic>\n",
    "الاعداد الست عشرية هي الاعداد التي تتكون من ستة عشر رقما وهي الاعداد 0 الي 9 بالاضافة الى الاحرف a,b,c,d,e,f. وللتمييز بين الاعداد الست عشرية والاعداد الصحيحة تستخدم \"0x\" قبل الرقم الست عشري. فعند كتابة 0x11 فان بايثون يتعامل مع هذا الرقم على انه ست عشري. ولتحويل هذا الرقم الى عدد صحيح فاننا نستخدم نفس الدالة السابقة\n",
    "()<font color=\"green\">int</font>\n",
    " كما في المثال التالي: \n",
    "</div>\n",
    "\n"
   ]
  },
  {
   "cell_type": "code",
   "execution_count": 2,
   "metadata": {},
   "outputs": [
    {
     "data": {
      "text/plain": [
       "17"
      ]
     },
     "execution_count": 2,
     "metadata": {},
     "output_type": "execute_result"
    }
   ],
   "source": [
    "x=0x11\n",
    "int(x)"
   ]
  },
  {
   "cell_type": "markdown",
   "metadata": {},
   "source": [
    "<div class=arabic>\n",
    "ولتحويل الاعداد الصحيحة الى اعداد ست عشرية يمكن استخدام الدالة \n",
    "()<font color=\"green\">hex</font> \n",
    "للقيام بذلك كما في المثال التالي:\n",
    "</div>\n",
    "\n"
   ]
  },
  {
   "cell_type": "code",
   "execution_count": 6,
   "metadata": {},
   "outputs": [
    {
     "data": {
      "text/plain": [
       "'0xa'"
      ]
     },
     "execution_count": 6,
     "metadata": {},
     "output_type": "execute_result"
    }
   ],
   "source": [
    "x=10\n",
    "hex(x)"
   ]
  },
  {
   "cell_type": "markdown",
   "metadata": {},
   "source": [
    "<div class=arabic>\n",
    "ولمعرفة الطريقة التفصيلية لطريقة التحويل من عدد ست عشري الى صحيح او العكس يمكن الرجوع الى الملحق أ للاستزادة.\n",
    "</div>"
   ]
  },
  {
   "cell_type": "markdown",
   "metadata": {},
   "source": [
    "<div class=arabic>\n",
    "<h3 class=title>\n",
    "البيانات المنطقية\n",
    "</h3>\n",
    "</div>\n",
    "\n"
   ]
  },
  {
   "cell_type": "markdown",
   "metadata": {},
   "source": [
    "<div class=arabic>\n",
    "البيانات المنطقية هي البيانات التي تحوى احدى القيمتين صح\n",
    "<font color=\"green\">True</font>\n",
    " أو خطأ\n",
    " <font color=\"green\">False</font>\n",
    ". لاحظ ان هاتين القيمتين تبتدأ بحرف كبير في لغة بايثون. وهناك عمليات مقارنة كثير تنتج عنها احدى  هاتين القيمتين. فعملية مقارنة التساوي في بايثون هي علامتي يساوي متتابعتين \"==\" فعند مقارنة عددين مثلا فاننا نكتبهما بالشكل التالي:\n",
    "</div>\n",
    "\n"
   ]
  },
  {
   "cell_type": "code",
   "execution_count": 8,
   "metadata": {},
   "outputs": [
    {
     "data": {
      "text/plain": [
       "False"
      ]
     },
     "execution_count": 8,
     "metadata": {},
     "output_type": "execute_result"
    }
   ],
   "source": [
    "5==4"
   ]
  },
  {
   "cell_type": "markdown",
   "metadata": {},
   "source": [
    "<div class=arabic>\n",
    "فعند عدم تساوي الرقمين مثلا فاننا نحصل على القيمة False اي خطأ. وعندما تكون القيمتين متساويتين فان الناتج يكون \"True\" اي صحيح كما في المثال التالي:\n",
    "</div>\n",
    "\n"
   ]
  },
  {
   "cell_type": "code",
   "execution_count": 10,
   "metadata": {},
   "outputs": [
    {
     "data": {
      "text/plain": [
       "True"
      ]
     },
     "execution_count": 10,
     "metadata": {},
     "output_type": "execute_result"
    }
   ],
   "source": [
    "0b1111==15"
   ]
  },
  {
   "cell_type": "markdown",
   "metadata": {},
   "source": [
    "<div class=arabic>\n",
    "ويمكننا التأكد من النتيجة السابقة بتحويل القيمة 0b1111 الى عدد صحيح كما تعلمنا سابقا.\n",
    "</div>"
   ]
  },
  {
   "cell_type": "code",
   "execution_count": 12,
   "metadata": {
    "scrolled": true
   },
   "outputs": [
    {
     "data": {
      "text/plain": [
       "15"
      ]
     },
     "execution_count": 12,
     "metadata": {},
     "output_type": "execute_result"
    }
   ],
   "source": [
    "int(0b1111)"
   ]
  },
  {
   "cell_type": "markdown",
   "metadata": {},
   "source": [
    "<div class=arabic>\n",
    "<h3 class=title>\n",
    "البيانات النصية\n",
    "</h3>\n",
    "</div>"
   ]
  },
  {
   "cell_type": "markdown",
   "metadata": {},
   "source": [
    "<div class=arabic>\n",
    "كل ما يكتب بين علامتى تنصيص سواء كانت احادية\n",
    "('z') \n",
    "او ثنائية\n",
    "(\"z\") \n",
    "او ثلاثية\n",
    "('''z''')\n",
    " يطلق عليه بيان نصي string أو بشكل مختصر str. فالقيمة \"123\" يتعامل معها بايثون على انها سلسلة من الرموز النصية الرقمية مختلفة عن القيمة العددية 123. ويمكن التأكد من ذلك باستخدام الدالة \n",
    "()<font color=\"green\">type</font>\n",
    " كما في المثال التالي:\n",
    "\n",
    "\n",
    "</div>\n",
    "\n"
   ]
  },
  {
   "cell_type": "code",
   "execution_count": 6,
   "metadata": {},
   "outputs": [
    {
     "data": {
      "text/plain": [
       "str"
      ]
     },
     "execution_count": 6,
     "metadata": {},
     "output_type": "execute_result"
    }
   ],
   "source": [
    "x=\"123\"\n",
    "type(x)"
   ]
  },
  {
   "cell_type": "markdown",
   "metadata": {},
   "source": [
    "<div class=arabic>\n",
    "وهناك عدة قواعد يجب اتباعها عند كتابة البيانات النصيية والتي يمكن تلخيصها في النقاط التالية:\n",
    "</div>"
   ]
  },
  {
   "cell_type": "markdown",
   "metadata": {},
   "source": [
    "<div class=arabic>\n",
    "<ul>\n",
    "<li>\n",
    "علامتي التنصيص لكل بيان نصي يجب ان تكون من نفس النوع. فعند البدء بعلامة تنصيص احادية يجب ان ينتهي البيان النصي بعلامة تنصيص احادية وكذلك الحال مع علامة التنصيص الثنائية والثلاثية كما في المثال التالي:\n",
    "</li>\n",
    "</ul>\n",
    "</div>\n",
    "\n"
   ]
  },
  {
   "cell_type": "code",
   "execution_count": 18,
   "metadata": {
    "collapsed": true
   },
   "outputs": [],
   "source": [
    "student_name='Ahmad'\n",
    "student_name=\"Ali\"\n",
    "student_name='''Hassan'''"
   ]
  },
  {
   "cell_type": "markdown",
   "metadata": {},
   "source": [
    "<div class=arabic>\n",
    "لاحظ انه عندما نقوم باستخدام علامتي تنصيص مختلفة فان ذلك سوف يجعل مفسر لغة بايثون يظهر رسالة تفيد بوجود خطأ كما في المثال التالي:\n",
    "</div>\n",
    "\n"
   ]
  },
  {
   "cell_type": "code",
   "execution_count": 19,
   "metadata": {},
   "outputs": [
    {
     "ename": "SyntaxError",
     "evalue": "EOL while scanning string literal (<ipython-input-19-314a6067dc16>, line 1)",
     "output_type": "error",
     "traceback": [
      "\u001b[1;36m  File \u001b[1;32m\"<ipython-input-19-314a6067dc16>\"\u001b[1;36m, line \u001b[1;32m1\u001b[0m\n\u001b[1;33m    print('welcome to python\")\u001b[0m\n\u001b[1;37m                              ^\u001b[0m\n\u001b[1;31mSyntaxError\u001b[0m\u001b[1;31m:\u001b[0m EOL while scanning string literal\n"
     ]
    }
   ],
   "source": [
    "print('welcome to python\")"
   ]
  },
  {
   "cell_type": "markdown",
   "metadata": {},
   "source": [
    "<div class=arabic>\n",
    "<ul>\n",
    "<li>\n",
    "علامة التنصيص الاحادية والثنائية تستخدم لكاتبة نصوص من سطر واحد بينما علامة التنصيص الثلاثية تسمح بطباعة اكثر من سطر. فعند استخدام علامة التنصيص الاحادية والثنائية لطباعة بيان نصي متعدد السطور فان مفسر بايثون يظهر لنا رسالة تفيد بوجود خطأ كما في المثالين التاليين:\n",
    "</li>\n",
    "</ul>\n",
    "</div>\n",
    "\n"
   ]
  },
  {
   "cell_type": "code",
   "execution_count": 33,
   "metadata": {},
   "outputs": [
    {
     "ename": "SyntaxError",
     "evalue": "EOL while scanning string literal (<ipython-input-33-5fc875d5d1be>, line 1)",
     "output_type": "error",
     "traceback": [
      "\u001b[1;36m  File \u001b[1;32m\"<ipython-input-33-5fc875d5d1be>\"\u001b[1;36m, line \u001b[1;32m1\u001b[0m\n\u001b[1;33m    print('welcome\u001b[0m\n\u001b[1;37m                  ^\u001b[0m\n\u001b[1;31mSyntaxError\u001b[0m\u001b[1;31m:\u001b[0m EOL while scanning string literal\n"
     ]
    }
   ],
   "source": [
    "print('welcome\n",
    "      to \n",
    "      python')"
   ]
  },
  {
   "cell_type": "code",
   "execution_count": 20,
   "metadata": {},
   "outputs": [
    {
     "ename": "SyntaxError",
     "evalue": "EOL while scanning string literal (<ipython-input-20-5fc875d5d1be>, line 1)",
     "output_type": "error",
     "traceback": [
      "\u001b[1;36m  File \u001b[1;32m\"<ipython-input-20-5fc875d5d1be>\"\u001b[1;36m, line \u001b[1;32m1\u001b[0m\n\u001b[1;33m    print('welcome\u001b[0m\n\u001b[1;37m                  ^\u001b[0m\n\u001b[1;31mSyntaxError\u001b[0m\u001b[1;31m:\u001b[0m EOL while scanning string literal\n"
     ]
    }
   ],
   "source": [
    "print(\"welcome\n",
    "      to \n",
    "      python\")"
   ]
  },
  {
   "cell_type": "markdown",
   "metadata": {},
   "source": [
    "<div class=arabic>\n",
    "اما عند استخدام علامة التنصيص الثلاثية فان مفسر بايثون يتم عملية الطباعة بدون اظهار اي رسالة خطأ كما في المثال التالي:\n",
    "</div>\n",
    "\n"
   ]
  },
  {
   "cell_type": "code",
   "execution_count": 32,
   "metadata": {},
   "outputs": [
    {
     "name": "stdout",
     "output_type": "stream",
     "text": [
      "welcome\n",
      "to \n",
      "python\n",
      "\n"
     ]
    }
   ],
   "source": [
    "print('''welcome\n",
    "to \n",
    "python\n",
    "''')"
   ]
  },
  {
   "cell_type": "markdown",
   "metadata": {},
   "source": [
    "<div class=arabic>\n",
    "يمكن استخدام رمز التجاهل \"\\\" لتمكين علامة التنصيص الاحادية والثنائية من طباعة اكثر من سطر على الشاشة. لكن هناك فرق بين الطريقتين فعلامة التنصيص الثلاثية تبقي البيان النصي كما كتب من ناحية تعدد السطور بينما استخدام رمز التجاهل يقوم بكتابة البيان النصي كسطر واحد كما في المثالين التاليين:\n",
    "</div>\n",
    "\n"
   ]
  },
  {
   "cell_type": "code",
   "execution_count": 26,
   "metadata": {},
   "outputs": [
    {
     "name": "stdout",
     "output_type": "stream",
     "text": [
      "welcome to python\n",
      "welcome to python\n"
     ]
    }
   ],
   "source": [
    "print ('welcome \\\n",
    "to \\\n",
    "python')\n",
    "\n",
    "print(\"welcome \\\n",
    "to \\\n",
    "python\")"
   ]
  },
  {
   "cell_type": "code",
   "execution_count": 27,
   "metadata": {},
   "outputs": [
    {
     "name": "stdout",
     "output_type": "stream",
     "text": [
      "welcome\n",
      "to \n",
      "python\n"
     ]
    }
   ],
   "source": [
    "print('''welcome\n",
    "to \n",
    "python''')"
   ]
  },
  {
   "cell_type": "markdown",
   "metadata": {},
   "source": [
    "<div class=arabic>\n",
    "يمكن استخدام علامة تنصيص او اكثر داخل علامتي تنصيص اخرى ولكن بعد التأكد من ان علامة التنصيص الداخلية مختلفة عن علامة التنصيص المستخدمة في بداية ونهاية النص. كما يمكن استخدام رمز التجاهل المشار اليه سابقا لاداء نفس الوظيفة اذا كانت علامة التنصيص الداخلية مشابهة لعلامتي التنصيص الخارجية. كما ماهو موضح في الامثلة التالية:\n",
    "</div>\n",
    "\n"
   ]
  },
  {
   "cell_type": "code",
   "execution_count": 30,
   "metadata": {},
   "outputs": [
    {
     "name": "stdout",
     "output_type": "stream",
     "text": [
      "They are 'like' python\n",
      "They are 'like' python\n",
      "My brother's car is quite old\n",
      "My brother's car is quite old\n"
     ]
    }
   ],
   "source": [
    "print(\"They are 'like' python\")\n",
    "print('They are \\'like\\' python')\n",
    "print(\"My brother's car is quite old\")\n",
    "print('My brother\\'s car is quite old')"
   ]
  },
  {
   "cell_type": "markdown",
   "metadata": {},
   "source": [
    "<div class=arabic>\n",
    "<h2 class=title>\n",
    "ترك مسافات\n",
    "</h2>\n",
    "\n",
    "ترك مسافات في تركيب بايثون اللغوي\n",
    "في حين ان لغات البرمجة الاخرى تستخدم مصطلحات واقواس لتحديد بداية ونهاية الاجزاء  الداخلية للكود البرمجي فان لغة بايثون تتبع نظام ترك المسافات عند بداية كتابة السطر البرمجي لاداء نفس المهمة. فلغة جافا تستخدم الاقواس لتحديد جزئية الكود الداخلي و علاقته ببقية الاجزاء كما في المثال التالي:\n",
    "</div>\n",
    "\n"
   ]
  },
  {
   "cell_type": "raw",
   "metadata": {
    "collapsed": true
   },
   "source": [
    "public class HelloWorld {\n",
    "   public static void main(String[] args) {\n",
    "   \n",
    "      System.out.println(\"Hello, World\");\n",
    "   }\n",
    "}"
   ]
  },
  {
   "cell_type": "markdown",
   "metadata": {},
   "source": [
    "<div class=arabic>\n",
    "بينما لغة بايثون تعمد الى ترك مسافة عند بداية كتابة الجزء الداخلى للكود لتجديد مداه وعلاقتة بالاجزاء الاخرى كما في المثال التالي:\n",
    "</div>"
   ]
  },
  {
   "cell_type": "code",
   "execution_count": 29,
   "metadata": {},
   "outputs": [
    {
     "name": "stdout",
     "output_type": "stream",
     "text": [
      "1\n",
      "2\n",
      "3\n",
      "4\n"
     ]
    }
   ],
   "source": [
    "for i in [1,2,3,4]:\n",
    "    print (i)"
   ]
  },
  {
   "cell_type": "markdown",
   "metadata": {},
   "source": [
    "<div class=arabic>\n",
    "ليس من المهم ان تفهم وظيفة الكود البرمجي السابق الان لاننا سوف نتطرق اليه في وقت لاحق ولكن المهم ان تعرف ان لغة بايثون تهتم بترك مسافات عند بداية كتابة الاسطر البرمجية لتحديد الاجزاء الداخلية من الكود.فعند كتابة برنامج من سطر واحد مثلا فان ترك اي مسافة قبل بداية السطر البرمجي يجعل مفسر بايثون يرفض التركيب اللغوي و يظهر رسالة تبين سبب المشكلة هو ترك مسافة عند بداية كتابة السطر البرمجي في موضع لايستدعي ترك اي مسافة. لكن ترك مسافة في اي موضع اخى من السطر ليس له اي تأثير على التركيب اللغوي. كما يجب الاشارة الى ان ترك اسطر فارغة بين اسطر الكود البرمجي ليس له اي تأثير يذكر ايضا. سوف نعاود الحديث عن ترك المسافات عندما نبدأ الحديث عن الحلقات التكرارية والدوال في بايثون حيث تستدعى الحاجة للحديث عن ترك مسافات عند كتابة هذه التراكيب اللغوية.\n",
    "\n",
    "</div>\n",
    "\n"
   ]
  },
  {
   "cell_type": "code",
   "execution_count": null,
   "metadata": {
    "collapsed": true
   },
   "outputs": [],
   "source": [
    "\n"
   ]
  },
  {
   "cell_type": "code",
   "execution_count": 38,
   "metadata": {
    "collapsed": true
   },
   "outputs": [],
   "source": [
    "fruits={'Apple':4,'Orange':5,'banana':10}"
   ]
  },
  {
   "cell_type": "markdown",
   "metadata": {},
   "source": [
    "<div class=arabic>\n",
    "بتم استدعاء البيانات من القاموس بكتابة اسم القاموس ومن ثم وضع مفتاح البيان بين قوسين مربعين كما في المثال التالي:\n",
    "</div>"
   ]
  },
  {
   "cell_type": "code",
   "execution_count": 39,
   "metadata": {},
   "outputs": [
    {
     "data": {
      "text/plain": [
       "4"
      ]
     },
     "execution_count": 39,
     "metadata": {},
     "output_type": "execute_result"
    }
   ],
   "source": [
    "fruits['Apple']"
   ]
  },
  {
   "cell_type": "markdown",
   "metadata": {},
   "source": [
    "<div class=arabic\n",
    "في معظم لغات البرمجة المعروفه لايمكن استخدام المتغيرات الا بعد تعريفها مسبقا وذلك بتحديد نوع البيانات التي تشير اليه هذه المتغيرات. لكن الامر مختلف تماما في لغة بايثون. فالمبرمج لايجتاج لا يحتاج الى تعريف المتغيرات قبل استخدامها. لذلك يطلق على لغة بايثون بانها ديناميكية لان تقوم بتحديد نوع المتغيرات ذاتيا من خلال التعرف على نوع البيانات المستخدمة مع كل متغير. وهذه الخاصية تعطي المبرمج بلغة بايثون سهوله وسرعة غير مسبوقة في كتابة الاكواد البرمجية والمثال التالي يوضح هذه الخاصية:\n",
    "\n",
    "فعند اسناد قيمة نصية لبايثون يقوم بايثون بشكل تلقائي بالتعرف على نوع البيانات المستخدمة مع المتغير وتحديد نوعة بانه متغير نصي. فالامر type يمكن استخدامة للتعرف على انواع البيانات المخزنه في المتغيرات.\n",
    "</div>"
   ]
  },
  {
   "cell_type": "markdown",
   "metadata": {},
   "source": [
    "<div class=arabic\n",
    "في معظم لغات البرمجة المعروفه لايمكن استخدام المتغيرات الا بعد تعريفها مسبقا وذلك بتحديد نوع البيانات التي تشير اليه هذه المتغيرات. لكن الامر مختلف تماما في لغة بايثون. فالمبرمج لايجتاج لا يحتاج الى تعريف المتغيرات قبل استخدامها. لذلك يطلق على لغة بايثون بانها ديناميكية لان تقوم بتحديد نوع المتغيرات ذاتيا من خلال التعرف على نوع البيانات المستخدمة مع كل متغير. وهذه الخاصية تعطي المبرمج بلغة بايثون سهوله وسرعة غير مسبوقة في كتابة الاكواد البرمجية والمثال التالي يوضح هذه الخاصية:\n",
    "\n",
    "فعند اسناد قيمة نصية لبايثون يقوم بايثون بشكل تلقائي بالتعرف على نوع البيانات المستخدمة مع المتغير وتحديد نوعة بانه متغير نصي. فالامر type يمكن استخدامة للتعرف على انواع البيانات المخزنه في المتغيرات.\n",
    "</div>"
   ]
  },
  {
   "cell_type": "markdown",
   "metadata": {},
   "source": [
    "<div class=arabic>\n",
    "في معظم لغات البرمجة المعروفه لايمكن استخدام المتغيرات الا بعد تعريفها مسبقا وذلك بتحديد نوع البيانات التي تشير اليه هذه المتغيرات. لكن الامر مختلف تماما في لغة بايثون. فالمبرمج لايجتاج لا يحتاج الى تعريف المتغيرات قبل استخدامها. لذلك يطلق على لغة بايثون بانها ديناميكية لان تقوم بتحديد نوع المتغيرات ذاتيا من خلال التعرف على نوع البيانات المستخدمة مع كل متغير. وهذه الخاصية تعطي المبرمج بلغة بايثون سهوله وسرعة غير مسبوقة في كتابة الاكواد البرمجية والمثال التالي يوضح هذه الخاصية:\n",
    "\n",
    "فعند اسناد قيمة نصية لبايثون يقوم بايثون بشكل تلقائي بالتعرف على نوع البيانات المستخدمة مع المتغير وتحديد نوعة بانه متغير نصي. فالامر type يمكن استخدامة للتعرف على انواع البيانات المخزنه في المتغيرات.\n",
    "</div>"
   ]
  },
  {
   "cell_type": "markdown",
   "metadata": {},
   "source": []
  },
  {
   "cell_type": "code",
   "execution_count": null,
   "metadata": {
    "collapsed": true
   },
   "outputs": [],
   "source": []
  }
 ],
 "metadata": {
  "kernelspec": {
   "display_name": "Python 3",
   "language": "python",
   "name": "python3"
  },
  "language_info": {
   "codemirror_mode": {
    "name": "ipython",
    "version": 3
   },
   "file_extension": ".py",
   "mimetype": "text/x-python",
   "name": "python",
   "nbconvert_exporter": "python",
   "pygments_lexer": "ipython3",
   "version": "3.6.1"
  }
 },
 "nbformat": 4,
 "nbformat_minor": 2
}
