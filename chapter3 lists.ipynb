{
 "cells": [
  {
   "cell_type": "markdown",
   "metadata": {},
   "source": [
    "<div class=arabic>\n",
    "<hr class=horizontal>\n",
    "<center>\n",
    "<a id=\"chapter3\"></a>\n",
    "<h1 class=title>\n",
    "الفصل الثالث : التعامل مع القوائم\n",
    "</h1>\n",
    "</center>\n",
    "<hr class=horizontal>\n",
    "</div>"
   ]
  },
  {
   "cell_type": "markdown",
   "metadata": {},
   "source": [
    "<div class=arabic>\n",
    "القوائم في لغة بايثون هي عبارة عن مجموعة من البيانات التي يشار اليها بمتغير واحد. وهي تعتبر وسيلة سهلة لتخزين البيانات قبل معالجتها اوتحليلها. ببساطة هي سلسلة من البيانات توضع بين قوسين مربعين يفصل بين كل بيان واخر بفاصلة كما في المثال التالي:\n",
    "</div>\n",
    "\n"
   ]
  },
  {
   "cell_type": "code",
   "execution_count": null,
   "metadata": {
    "collapsed": true
   },
   "outputs": [],
   "source": [
    "months=['Jan','Feb','Mar','Apr','Jun','jul','Aug','Sep','Oct','Nov','Dec']"
   ]
  },
  {
   "cell_type": "markdown",
   "metadata": {},
   "source": [
    "<div class=arabic>\n",
    "كما يمكن انشاء قائمة فارغة باكثر من طريقة. فمثلا يمكن انشاء قائمة فارغة باستخدام قوسين مربعين فارغين بعد اسم المتغير كما في المثال التالي:\n",
    "</div>\n",
    "\n"
   ]
  },
  {
   "cell_type": "code",
   "execution_count": 7,
   "metadata": {
    "collapsed": true
   },
   "outputs": [],
   "source": [
    "list1=[]"
   ]
  },
  {
   "cell_type": "markdown",
   "metadata": {},
   "source": [
    "<div class=arabic>\n",
    "كما يمكن انشاء قائمة فارغة باستخدام الدالة\n",
    "()<font color=\"green\">list</font>\n",
    " كما في المثال التالي:\n",
    "</div>\n",
    "\n"
   ]
  },
  {
   "cell_type": "code",
   "execution_count": 18,
   "metadata": {},
   "outputs": [
    {
     "data": {
      "text/plain": [
       "[1]"
      ]
     },
     "execution_count": 18,
     "metadata": {},
     "output_type": "execute_result"
    }
   ],
   "source": [
    "mylist=list()"
   ]
  },
  {
   "cell_type": "markdown",
   "metadata": {},
   "source": [
    "<div class=arabic>\n",
    " لاضافة بيانات لقائمة قارغة يمكن استخدام الامر \n",
    "()<font color=\"green\">append</font>\n",
    ". كما في المثال التالي:\n",
    "</div>\n",
    "\n"
   ]
  },
  {
   "cell_type": "code",
   "execution_count": 20,
   "metadata": {},
   "outputs": [
    {
     "data": {
      "text/plain": [
       "['Sunday', 'Monday', 'Tuesday']"
      ]
     },
     "execution_count": 20,
     "metadata": {},
     "output_type": "execute_result"
    }
   ],
   "source": [
    "list1=[]\n",
    "list1.append('Sunday')\n",
    "list1.append('Monday')\n",
    "list1.append('Tuesday')\n",
    "list1"
   ]
  },
  {
   "cell_type": "markdown",
   "metadata": {},
   "source": [
    "<div class=arabic>\n",
    "لاحظ استخدام النقطة بعد اسم القائمة لتنفيذ الامر. فهي تعنى قم باضافة القيمة \"Sunday\" مثلا لللقائمة list1.\n",
    "\n",
    "</div>\n",
    "\n"
   ]
  },
  {
   "cell_type": "markdown",
   "metadata": {},
   "source": [
    "<div class=arabic>\n",
    "كما يجب التنويه الى ان القوائم يمكن ان تحتوي على اكثر من نوع من البيانات فالقائمة التالية تحتوي على بيانات نصية وبيانات عددية وبيانات منطقية:\n",
    "</div>"
   ]
  },
  {
   "cell_type": "code",
   "execution_count": 32,
   "metadata": {
    "collapsed": true
   },
   "outputs": [],
   "source": [
    "list2=['Ahmad',1990,True,23.5]"
   ]
  },
  {
   "cell_type": "markdown",
   "metadata": {},
   "source": [
    "<div class=arabic>\n",
    "يتم الاشارة الى مكان البيانات في القائمة بارقام صحيحة تسمى Index تبدا من الصفر. فالقائمة السابقة يشار الى القيمة الاولى فيها بالرقم 0 والقيمة الثانية بالرقم 1 وهكذا الى نهاية القيم في القائمة.\n",
    "</div>\n",
    "\n"
   ]
  },
  {
   "cell_type": "markdown",
   "metadata": {},
   "source": [
    "<table style=\"width:80%\">\n",
    "  \n",
    "  <tr>\n",
    "    <td border=\"0\"><center>مؤشر القيمة</td>\n",
    "    <td><center>0</td>\n",
    "    <td><center>1</td>\n",
    "    <td><center>2</td>\n",
    "    <td><center>3</td>\n",
    "  </tr>\n",
    "  <tr>\n",
    "    <td><center>القيمة</td>\n",
    "    <td><center>\"Ahmad</td>\n",
    "    <td><center>1990</td>\n",
    "    <td><center>True</td>\n",
    "    <td><center>23.5</td>\n",
    "  </tr>\n",
    "  \n",
    "</table> "
   ]
  },
  {
   "cell_type": "markdown",
   "metadata": {},
   "source": [
    "<div class=arabic>\n",
    "وللحصول على قيمة معينة من قائمة فاننا نقوم بكتابة اسم القائمة متبوعا بقوسين مربعين يوضع بينها رقم مؤشر القيمة. فعلى سبيل المثال عندما نريد القيمة الاولى من قائمة list2 السابقة فاننا نكتب الكود التالي:\n",
    "</div>\n",
    "\n"
   ]
  },
  {
   "cell_type": "code",
   "execution_count": 33,
   "metadata": {},
   "outputs": [
    {
     "data": {
      "text/plain": [
       "'Ahmad'"
      ]
     },
     "execution_count": 33,
     "metadata": {},
     "output_type": "execute_result"
    }
   ],
   "source": [
    "list2[0]"
   ]
  },
  {
   "cell_type": "markdown",
   "metadata": {},
   "source": [
    "<div class=arabic>\n",
    "وعندما نريد القيمة الثالثة مثلا فاننا نكتب الامر التالي:\n",
    "</div>"
   ]
  },
  {
   "cell_type": "code",
   "execution_count": 34,
   "metadata": {},
   "outputs": [
    {
     "data": {
      "text/plain": [
       "True"
      ]
     },
     "execution_count": 34,
     "metadata": {},
     "output_type": "execute_result"
    }
   ],
   "source": [
    "list2[2]"
   ]
  },
  {
   "cell_type": "markdown",
   "metadata": {},
   "source": [
    "<div class=arabic>\n",
    "كما يمكن الاشارة الى القيم في قائمة من اليمين الى اليسار او بمعنى اخر من اخر قيمة في القائمة. وللقيام بذلك نقوم باستخدم مؤشر سالب بين القوسين المربعين كما هو موضح في الجدول التالي:\n",
    "</div>\n",
    "\n"
   ]
  },
  {
   "cell_type": "markdown",
   "metadata": {},
   "source": [
    "<table style=\"width:80%\">\n",
    "  \n",
    "  <tr>\n",
    "    <td border=\"0\"><center>مؤشر القيمة</td>\n",
    "    <td><center>-4</td>\n",
    "    <td><center>-3</td>\n",
    "    <td><center>-2</td>\n",
    "    <td><center>-1</td>\n",
    "  </tr>\n",
    "  <tr>\n",
    "    <td><center>القيمة</td>\n",
    "    <td><center>\"Ahmad</td>\n",
    "    <td><center>1990</td>\n",
    "    <td><center>True</td>\n",
    "    <td><center>23.5</td>\n",
    "  </tr>\n",
    "  \n",
    "</table> "
   ]
  },
  {
   "cell_type": "markdown",
   "metadata": {},
   "source": [
    "<div class=arabic>\n",
    " للحصول على أخر قيمة في القائمة list2 السابقة نكتب الامر التالي:\n",
    "</div>"
   ]
  },
  {
   "cell_type": "code",
   "execution_count": 36,
   "metadata": {},
   "outputs": [
    {
     "data": {
      "text/plain": [
       "23.5"
      ]
     },
     "execution_count": 36,
     "metadata": {},
     "output_type": "execute_result"
    }
   ],
   "source": [
    "list2[-1]"
   ]
  },
  {
   "cell_type": "markdown",
   "metadata": {},
   "source": [
    "<div class=arabic>\n",
    "للحصول على القيمة قبل الاخيره في قائمة فاننا نستخدم الموشر 2- داخل القوسين المربعين و 3- للقيمة التي بعدها وهكذا لباقي القيم في القائمة.\n",
    "</div>\n",
    "\n"
   ]
  },
  {
   "cell_type": "markdown",
   "metadata": {},
   "source": []
  }
 ],
 "metadata": {
  "kernelspec": {
   "display_name": "Python 3",
   "language": "python",
   "name": "python3"
  },
  "language_info": {
   "codemirror_mode": {
    "name": "ipython",
    "version": 3
   },
   "file_extension": ".py",
   "mimetype": "text/x-python",
   "name": "python",
   "nbconvert_exporter": "python",
   "pygments_lexer": "ipython3",
   "version": "3.6.1"
  }
 },
 "nbformat": 4,
 "nbformat_minor": 2
}
