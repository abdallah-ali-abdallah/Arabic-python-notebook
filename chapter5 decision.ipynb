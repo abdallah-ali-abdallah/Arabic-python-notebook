{
 "cells": [
  {
   "cell_type": "markdown",
   "metadata": {},
   "source": [
    "<div class=arabic>\n",
    "<hr class=horizontal>\n",
    "<center>\n",
    "<a id=\"chapter3\"></a>\n",
    "<h1 class=title>\n",
    "الفصل الخامس : اتخاذ القرارات\n",
    "</h1>\n",
    "</center>\n",
    "<hr class=horizontal>\n",
    "</div>"
   ]
  },
  {
   "cell_type": "markdown",
   "metadata": {},
   "source": [
    "<div class=arabic>\n",
    "ان من الاشياء الجميلة في لغة البرمجة ان المبرمج يستطيع ان يعطي الكمبيوتر قدرة على التفكير \"ان صح التعبير\" والتي من خلالها يستطيع الكمبيوتراتخاذ قراراته. لكن في حقيقة الامر هذه القرارات ماهي الا شروط  يفرضها المبرمج على البرنامج ليحقق مبتغاه. فاتخاذ القرارات في بايثون يتم عن طريق استخدام اداة الشرط if متبوعا بالشرط المراد التأكد منه ومن ثم وضع نقطتين فوق بعض في نهاية السطر كما في المثال التالي:\n",
    "<div>\n",
    "\n"
   ]
  },
  {
   "cell_type": "code",
   "execution_count": 245,
   "metadata": {},
   "outputs": [
    {
     "name": "stdout",
     "output_type": "stream",
     "text": [
      "Ahmad\n"
     ]
    }
   ],
   "source": [
    "name=\"Ahmad\"\n",
    "if len(name)<10:\n",
    "    print(name)"
   ]
  },
  {
   "cell_type": "markdown",
   "metadata": {},
   "source": [
    "<div class=arabic>\n",
    "ففي المثال السابق يتم التحقق من صحة الشرط \n",
    "\"len(name)<10\"\n",
    "فان كانت نتيجة التحقق صحيحة يتم تنفيذ الكود\n",
    "print(name)\n",
    ".لاحظ ان الكود الذي يقع داخل الجملة الشرطية لا بد ان يبتدأ بترك فراغ على الاقل بمقدار حرف واحد كما وضحنا سابقا في اجزاء اخرى من هذا الكتاب. اما اذا كانت نتيجة التحقق خاطئة فان مفسر بايثون يتجاهل الكود البرمجي داخل الجملة الشرطية كما في المثال التالي:\n",
    "</div>\n",
    "\n"
   ]
  },
  {
   "cell_type": "code",
   "execution_count": 246,
   "metadata": {
    "collapsed": true
   },
   "outputs": [],
   "source": [
    "name=\"Ahamd alsaadi\"\n",
    "if len(name)<10:\n",
    "    print(name)"
   ]
  },
  {
   "cell_type": "markdown",
   "metadata": {},
   "source": [
    "<div class=arabic>\n",
    "يمكن زيادة تعقيد اتخاذ القرار السابق باستخدام كلمة \n",
    "else\n",
    "فيصبح التركيب اللغوي على النحو التالي:\n",
    "\n",
    "</div>\n",
    "\n"
   ]
  },
  {
   "cell_type": "code",
   "execution_count": 247,
   "metadata": {},
   "outputs": [
    {
     "name": "stdout",
     "output_type": "stream",
     "text": [
      "عدد احرف الاسم اكبر من المطلوب\n"
     ]
    }
   ],
   "source": [
    "name=\"Ahmad alsaadi\"\n",
    "if len(name)<10:\n",
    "    print(name)\n",
    "else:\n",
    "    print(\"عدد احرف الاسم اكبر من المطلوب\")"
   ]
  },
  {
   "cell_type": "markdown",
   "metadata": {},
   "source": [
    "<div class=arabic>\n",
    "ففي المثال السابق اذا لم يتم تحقق الشرط فاننا نطلب من مفسر بايثون بتنفيذ الكود البرمجي الذي يقع بعد else.\n",
    "</div>"
   ]
  },
  {
   "cell_type": "code",
   "execution_count": null,
   "metadata": {
    "collapsed": true
   },
   "outputs": [],
   "source": []
  },
  {
   "cell_type": "markdown",
   "metadata": {},
   "source": []
  }
 ],
 "metadata": {
  "kernelspec": {
   "display_name": "Python 3",
   "language": "python",
   "name": "python3"
  },
  "language_info": {
   "codemirror_mode": {
    "name": "ipython",
    "version": 3
   },
   "file_extension": ".py",
   "mimetype": "text/x-python",
   "name": "python",
   "nbconvert_exporter": "python",
   "pygments_lexer": "ipython3",
   "version": "3.6.1"
  }
 },
 "nbformat": 4,
 "nbformat_minor": 2
}
