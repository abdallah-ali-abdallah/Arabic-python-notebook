{
 "cells": [
  {
   "cell_type": "markdown",
   "metadata": {},
   "source": [
    "<div class=arabic>\n",
    "<hr class=horizontal>\n",
    "<center>\n",
    "<a id=\"chapter3\"></a>\n",
    "<h1 class=title>\n",
    "الفصل السابع : التعامل مع الملفات\n",
    "</h1>\n",
    "</center>\n",
    "<hr class=horizontal>\n",
    "</div>"
   ]
  },
  {
   "cell_type": "markdown",
   "metadata": {},
   "source": [
    "<div class=arabic>\n",
    "\n",
    "ان جميع البرامج التي قمنا بكتابتها حتى الان كانت تتطلب ادخال البيانات يدويا داخل الكود البرمجي قبل تشغيله. وهي طريقة بدائية الى حد ما وغير مفيدة خاصة عندما نرغب في ادخال بيانات جديدة غير التي ادخلناها قبل تشغيل البرنامج. لذلك استحدث المبرمجون في بايثون تركيب لغوي يمكن من ادخال البيانات بعد تشغيل البرنامج وهو على النحو التالي:\n",
    "\n",
    "</div>"
   ]
  },
  {
   "cell_type": "code",
   "execution_count": 249,
   "metadata": {},
   "outputs": [
    {
     "name": "stdout",
     "output_type": "stream",
     "text": [
      "please write the number of students:45\n",
      "the number of student=  45\n"
     ]
    }
   ],
   "source": [
    "data=input(\"please write the number of students:\")\n",
    "print(\"the number of student= \",data)"
   ]
  },
  {
   "cell_type": "markdown",
   "metadata": {},
   "source": [
    "<div class=arabic>\n",
    "فالتركيب اللغوي هذا يطلب من المستخدم بعد تشغيله للبرنامج ان يقوم بادخال قيمة المتغير data وذلك من خلال كتابة ملاحظة او رسالة \"message\" للمستخدم ترشده الى ما يجب عمله. يجب ان يلاحظ ان هناك اختلاف بين اصدارتي بايثون في هذا الجانب فاصدارة بايثون 3 تستخدم الامر input كما شرحنا سابقا. اما اصدارة بايثون 2 فهي تستخدم الامر raw_input كي تقوم بنفس الوظيفة. كما يجب ملاحظة ان كل مايقوم بادخاله المستخدم من بيانات يتم التعامل معه كسلسلة نصية. لنأخذ مثال على هذا التركيب.\n",
    " لنفرض اننا نريد كتابة برنامج يطلب من المستخدم ادخال قيمة رقمين x وy لكي يقوم بحساب حاصل جمعهما. فمن خلال تعلمنا للتركيب اللغوي السابق يمكن كتابة البرنامج بالطريقة التالية:\n",
    "\n",
    "</div>\n",
    "\n"
   ]
  },
  {
   "cell_type": "code",
   "execution_count": 265,
   "metadata": {},
   "outputs": [
    {
     "name": "stdout",
     "output_type": "stream",
     "text": [
      "please enter a value for x: 5\n",
      "please enter a value for y: 9\n",
      "The sum of x and y =  59\n"
     ]
    }
   ],
   "source": [
    "x=input(\"please enter a value for x: \")\n",
    "y=input(\"please enter a value for y: \")\n",
    "sum=x+y\n",
    "print(\"The sum of x and y = \",sum)"
   ]
  },
  {
   "cell_type": "markdown",
   "metadata": {},
   "source": [
    "<div class=arabic>\n",
    "عند تنفيذ البرنامج السابق نجد ان هناك مشكلة. فالبرنامج تعامل مع المدخلات على انها سلسلة نصية وتمت عملية الجمع كما تعلمنا سابقا بتجميع النصوص مع بعضها البعض. يمكن حل المشكلة بتحويل سلسلة النصوص المدخلة الى ارقام كما في المثال التالي:\n",
    "</div>\n",
    "\n"
   ]
  },
  {
   "cell_type": "code",
   "execution_count": 254,
   "metadata": {},
   "outputs": [
    {
     "name": "stdout",
     "output_type": "stream",
     "text": [
      "please enter a value for x: 6\n",
      "please enter a value for y: 7\n",
      "the sum of x and y =  13\n"
     ]
    }
   ],
   "source": [
    "x=input(\"please enter a value for x: \")\n",
    "y=input(\"please enter a value for y: \")\n",
    "sum=int(x)+int(y)\n",
    "print(\"the sum of x and y = \",sum)"
   ]
  },
  {
   "cell_type": "markdown",
   "metadata": {},
   "source": [
    "<div class=arabic>\n",
    "بإمكاننا ان نطور البرنامج السابق قليلا بحيث ان نجعل البرنامج يسأل المستخدم عما اذا كان يرغب في اجراء عملية أخرى او يرغب في انهاء البرنامج. لاجراء هذا التطوير نحتاج لاستخدام الحلقة التكرارية while التي تعلمناها سابقا على النحو التالي:\n",
    "</div>\n",
    "\n"
   ]
  },
  {
   "cell_type": "markdown",
   "metadata": {},
   "source": []
  },
  {
   "cell_type": "code",
   "execution_count": 263,
   "metadata": {},
   "outputs": [
    {
     "name": "stdout",
     "output_type": "stream",
     "text": [
      "please enter value for x: 3\n",
      "please enter value for y: 4\n",
      "the sum of x and y =  7\n",
      "do you want to continue (y/n)? y\n",
      "please enter value for x: 9\n",
      "please enter value for y: 6\n",
      "the sum of x and y =  15\n",
      "do you want to continue (y/n)? n\n"
     ]
    }
   ],
   "source": [
    "user_choice=\"y\"\n",
    "while user_choice==\"y\":\n",
    "    x = int(input(\"please enter value for x: \"))  \n",
    "    y = int(input(\"please enter value for y: \"))\n",
    "    print (\"the sum of x and y = \", x+y)\n",
    "    user_choice=input(\"do you want to continue (y/n)? \")"
   ]
  },
  {
   "cell_type": "markdown",
   "metadata": {},
   "source": [
    "<div class=arabic>\n",
    "    لاحظ اننا قمنا بتعريف متغير اسميناه user_choice لكي يحمل احدى قيمتين y او n ليعبر عن رغبة المستخدم في الاستمرار من عدمها واعطينا هذا المتغير قيمة مبدئية هي y لكي تمكنا من دخول حلقة التكرار while. في داخل حلقة التكرار يطلب البرنامج من المستخدم ادخال قيمة x و y ثم يحولها من قيمة نصية الى قيمة عددية باستخدام الدالة ()int. يقوم البرنامج بعدها بحساب ناتج الجمع ومن ثم يطلب من المستخدم ابداء رغبته في اجراء عملية حسابية اخرى ام لا. اذا كانت الاجابة y فان العملية تتكرر داخل حلقة التكرار اما اذا كانت الاجابة n فان شرط حلقة التكرار لا يتحقق ويخرج البرنامج من الحلقة التكرارية وينهي البرنامج.\n",
    "</div>\n",
    "\n"
   ]
  },
  {
   "cell_type": "markdown",
   "metadata": {},
   "source": [
    "<div class=arabic>\n",
    "ان البرامج السابقة لم تكن تمكنا من الاحتفاظ بمخرجات البرنامج. لذلك استحدث المبرمجين طريقة أسرع وأسهل وهي استخدام الملفات للقراءة منها والكتابة اليها. فيمكن قراءة البيانات عن طريق استخدام الامر open على النحو التالي:\n",
    "</div>"
   ]
  },
  {
   "cell_type": "code",
   "execution_count": null,
   "metadata": {
    "collapsed": true
   },
   "outputs": [],
   "source": [
    "file=open(filename,mode,buffer)"
   ]
  },
  {
   "cell_type": "markdown",
   "metadata": {},
   "source": [
    "<div class=arabic>\n",
    "فالتركيب اللغوي السابق يتكون من الاتي:<br>\n",
    "<ul>\n",
    "<li> File : يمثل كائن برمجي موجود في الذاكرة يمثل قناة بين القرص الصلب والبرنامج لاداء مهام المطلوبة على الملف.\n",
    "</li>\n",
    "<li> filename : يمثل اسم الملف المطلوب التعامل معه. اذا لم يكن اسم الملف موجود في نفس المجلد الذي يتم من خلاله تشغيل البرنامج فلابد من تحديد\n",
    " مسار الملف حتى يتسنى للبرنامج الوصول للملف. اذا كان المراد الكتابة الى ملف جديد غير موجود مسبقا ولم بتم تحديد المسار المراد حفظ الملف فيه فان البرنامج سوف يقوم بكتابة الملف داخل المجلد الذي تم تشغيل البرنامج منه.\n",
    "</li>\n",
    "<li>\n",
    "Mode : يمثل نوع العملية المراد تنفيذها على الملف. والجدول التالي يمثل العمليات المسموح بها:\n",
    "<div class=arabic>\n",
    "<table style=\"width:80%\">\n",
    "  \n",
    "  <tr>\n",
    "    <td border=\"0\"><center>mode</td>\n",
    "    <td><center>\"r\"</td>\n",
    "    <td><center>\"w\"</td>\n",
    "    <td><center>\"a\"</td>\n",
    "  </tr>\n",
    "  <tr>\n",
    "    <td><center>العملية</td>\n",
    "    <td><center>قراءة ملف</td>\n",
    "    <td><center>كتابة ملف</td>\n",
    "    <td><center>اضافة بيانات الى ملف</td>\n",
    "  </tr>\n",
    "  \n",
    "</table> \n",
    "</div>\n",
    "</li>\n",
    "<br>\n",
    "<li>\n",
    "buffer : \n",
    "يمثل كمية البيانات التي يراد قراءتها او كتابتها الى الملف.\n",
    "</li>\n",
    "</ul>\n",
    "</div>\n",
    "\n"
   ]
  },
  {
   "cell_type": "markdown",
   "metadata": {},
   "source": [
    "<div class=arabic>\n",
    "من خلال التركيب السابق اصبح لدينا كائن في ذاكرة الكمبيوتر تم تحديد نوع العملية المرادة منه والان جاء دور شرح كيف يتم اجراء عملية القراءة والكتابة الفعلية على هذا الكائن.\n",
    "</div>\n"
   ]
  },
  {
   "cell_type": "code",
   "execution_count": null,
   "metadata": {
    "collapsed": true
   },
   "outputs": [],
   "source": [
    "myfile="
   ]
  },
  {
   "cell_type": "code",
   "execution_count": null,
   "metadata": {
    "collapsed": true
   },
   "outputs": [],
   "source": []
  },
  {
   "cell_type": "markdown",
   "metadata": {},
   "source": [
    "http://www.pythonforbeginners.com/cheatsheet/python-file-handling"
   ]
  },
  {
   "cell_type": "markdown",
   "metadata": {},
   "source": []
  }
 ],
 "metadata": {
  "kernelspec": {
   "display_name": "Python 3",
   "language": "python",
   "name": "python3"
  },
  "language_info": {
   "codemirror_mode": {
    "name": "ipython",
    "version": 3
   },
   "file_extension": ".py",
   "mimetype": "text/x-python",
   "name": "python",
   "nbconvert_exporter": "python",
   "pygments_lexer": "ipython3",
   "version": "3.6.1"
  }
 },
 "nbformat": 4,
 "nbformat_minor": 2
}
